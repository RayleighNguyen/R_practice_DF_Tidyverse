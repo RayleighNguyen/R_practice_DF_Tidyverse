{
 "cells": [
  {
   "cell_type": "code",
   "execution_count": 1,
   "id": "ffa63961",
   "metadata": {},
   "outputs": [
    {
     "name": "stderr",
     "output_type": "stream",
     "text": [
      "── \u001b[1mAttaching packages\u001b[22m ─────────────────────────────────────── tidyverse 1.3.1 ──\n",
      "\n",
      "\u001b[32m✔\u001b[39m \u001b[34mggplot2\u001b[39m 3.3.5     \u001b[32m✔\u001b[39m \u001b[34mpurrr  \u001b[39m 0.3.4\n",
      "\u001b[32m✔\u001b[39m \u001b[34mtibble \u001b[39m 3.1.2     \u001b[32m✔\u001b[39m \u001b[34mdplyr  \u001b[39m 1.0.7\n",
      "\u001b[32m✔\u001b[39m \u001b[34mtidyr  \u001b[39m 1.1.3     \u001b[32m✔\u001b[39m \u001b[34mstringr\u001b[39m 1.4.0\n",
      "\u001b[32m✔\u001b[39m \u001b[34mreadr  \u001b[39m 1.4.0     \u001b[32m✔\u001b[39m \u001b[34mforcats\u001b[39m 0.5.1\n",
      "\n",
      "── \u001b[1mConflicts\u001b[22m ────────────────────────────────────────── tidyverse_conflicts() ──\n",
      "\u001b[31m✖\u001b[39m \u001b[34mdplyr\u001b[39m::\u001b[32mfilter()\u001b[39m masks \u001b[34mstats\u001b[39m::filter()\n",
      "\u001b[31m✖\u001b[39m \u001b[34mdplyr\u001b[39m::\u001b[32mlag()\u001b[39m    masks \u001b[34mstats\u001b[39m::lag()\n",
      "\n"
     ]
    }
   ],
   "source": [
    "library('tidyverse')"
   ]
  },
  {
   "cell_type": "code",
   "execution_count": 2,
   "id": "c305cd23",
   "metadata": {},
   "outputs": [],
   "source": [
    "a = floor(runif(10,-10,10))\n",
    "b = letters[4:13]\n",
    "c = c('yes', 'no', 'no', 'no', 'no', 'yes', 'no', 'yes', 'yes', 'no')  "
   ]
  },
  {
   "cell_type": "code",
   "execution_count": 3,
   "id": "c65d47ab",
   "metadata": {},
   "outputs": [],
   "source": [
    "df = data.frame(a,b,c)"
   ]
  },
  {
   "cell_type": "code",
   "execution_count": 4,
   "id": "79fca2f6",
   "metadata": {},
   "outputs": [
    {
     "data": {
      "text/html": [
       "<table class=\"dataframe\">\n",
       "<caption>A data.frame: 10 × 3</caption>\n",
       "<thead>\n",
       "\t<tr><th scope=col>a</th><th scope=col>b</th><th scope=col>c</th></tr>\n",
       "\t<tr><th scope=col>&lt;dbl&gt;</th><th scope=col>&lt;chr&gt;</th><th scope=col>&lt;chr&gt;</th></tr>\n",
       "</thead>\n",
       "<tbody>\n",
       "\t<tr><td>-1</td><td>d</td><td>yes</td></tr>\n",
       "\t<tr><td>-6</td><td>e</td><td>no </td></tr>\n",
       "\t<tr><td>-6</td><td>f</td><td>no </td></tr>\n",
       "\t<tr><td>-7</td><td>g</td><td>no </td></tr>\n",
       "\t<tr><td> 0</td><td>h</td><td>no </td></tr>\n",
       "\t<tr><td> 7</td><td>i</td><td>yes</td></tr>\n",
       "\t<tr><td>-7</td><td>j</td><td>no </td></tr>\n",
       "\t<tr><td> 1</td><td>k</td><td>yes</td></tr>\n",
       "\t<tr><td>-8</td><td>l</td><td>yes</td></tr>\n",
       "\t<tr><td>-6</td><td>m</td><td>no </td></tr>\n",
       "</tbody>\n",
       "</table>\n"
      ],
      "text/latex": [
       "A data.frame: 10 × 3\n",
       "\\begin{tabular}{lll}\n",
       " a & b & c\\\\\n",
       " <dbl> & <chr> & <chr>\\\\\n",
       "\\hline\n",
       "\t -1 & d & yes\\\\\n",
       "\t -6 & e & no \\\\\n",
       "\t -6 & f & no \\\\\n",
       "\t -7 & g & no \\\\\n",
       "\t  0 & h & no \\\\\n",
       "\t  7 & i & yes\\\\\n",
       "\t -7 & j & no \\\\\n",
       "\t  1 & k & yes\\\\\n",
       "\t -8 & l & yes\\\\\n",
       "\t -6 & m & no \\\\\n",
       "\\end{tabular}\n"
      ],
      "text/markdown": [
       "\n",
       "A data.frame: 10 × 3\n",
       "\n",
       "| a &lt;dbl&gt; | b &lt;chr&gt; | c &lt;chr&gt; |\n",
       "|---|---|---|\n",
       "| -1 | d | yes |\n",
       "| -6 | e | no  |\n",
       "| -6 | f | no  |\n",
       "| -7 | g | no  |\n",
       "|  0 | h | no  |\n",
       "|  7 | i | yes |\n",
       "| -7 | j | no  |\n",
       "|  1 | k | yes |\n",
       "| -8 | l | yes |\n",
       "| -6 | m | no  |\n",
       "\n"
      ],
      "text/plain": [
       "   a  b c  \n",
       "1  -1 d yes\n",
       "2  -6 e no \n",
       "3  -6 f no \n",
       "4  -7 g no \n",
       "5   0 h no \n",
       "6   7 i yes\n",
       "7  -7 j no \n",
       "8   1 k yes\n",
       "9  -8 l yes\n",
       "10 -6 m no "
      ]
     },
     "metadata": {},
     "output_type": "display_data"
    }
   ],
   "source": [
    "df"
   ]
  },
  {
   "cell_type": "code",
   "execution_count": 5,
   "id": "57675f23",
   "metadata": {},
   "outputs": [
    {
     "data": {
      "text/html": [
       "<table class=\"dataframe\">\n",
       "<caption>A data.frame: 10 × 3</caption>\n",
       "<thead>\n",
       "\t<tr><th scope=col>a</th><th scope=col>b</th><th scope=col>c</th></tr>\n",
       "\t<tr><th scope=col>&lt;dbl&gt;</th><th scope=col>&lt;chr&gt;</th><th scope=col>&lt;chr&gt;</th></tr>\n",
       "</thead>\n",
       "<tbody>\n",
       "\t<tr><td>-8</td><td>l</td><td>yes</td></tr>\n",
       "\t<tr><td>-7</td><td>g</td><td>no </td></tr>\n",
       "\t<tr><td>-7</td><td>j</td><td>no </td></tr>\n",
       "\t<tr><td>-6</td><td>e</td><td>no </td></tr>\n",
       "\t<tr><td>-6</td><td>f</td><td>no </td></tr>\n",
       "\t<tr><td>-6</td><td>m</td><td>no </td></tr>\n",
       "\t<tr><td>-1</td><td>d</td><td>yes</td></tr>\n",
       "\t<tr><td> 0</td><td>h</td><td>no </td></tr>\n",
       "\t<tr><td> 1</td><td>k</td><td>yes</td></tr>\n",
       "\t<tr><td> 7</td><td>i</td><td>yes</td></tr>\n",
       "</tbody>\n",
       "</table>\n"
      ],
      "text/latex": [
       "A data.frame: 10 × 3\n",
       "\\begin{tabular}{lll}\n",
       " a & b & c\\\\\n",
       " <dbl> & <chr> & <chr>\\\\\n",
       "\\hline\n",
       "\t -8 & l & yes\\\\\n",
       "\t -7 & g & no \\\\\n",
       "\t -7 & j & no \\\\\n",
       "\t -6 & e & no \\\\\n",
       "\t -6 & f & no \\\\\n",
       "\t -6 & m & no \\\\\n",
       "\t -1 & d & yes\\\\\n",
       "\t  0 & h & no \\\\\n",
       "\t  1 & k & yes\\\\\n",
       "\t  7 & i & yes\\\\\n",
       "\\end{tabular}\n"
      ],
      "text/markdown": [
       "\n",
       "A data.frame: 10 × 3\n",
       "\n",
       "| a &lt;dbl&gt; | b &lt;chr&gt; | c &lt;chr&gt; |\n",
       "|---|---|---|\n",
       "| -8 | l | yes |\n",
       "| -7 | g | no  |\n",
       "| -7 | j | no  |\n",
       "| -6 | e | no  |\n",
       "| -6 | f | no  |\n",
       "| -6 | m | no  |\n",
       "| -1 | d | yes |\n",
       "|  0 | h | no  |\n",
       "|  1 | k | yes |\n",
       "|  7 | i | yes |\n",
       "\n"
      ],
      "text/plain": [
       "   a  b c  \n",
       "1  -8 l yes\n",
       "2  -7 g no \n",
       "3  -7 j no \n",
       "4  -6 e no \n",
       "5  -6 f no \n",
       "6  -6 m no \n",
       "7  -1 d yes\n",
       "8   0 h no \n",
       "9   1 k yes\n",
       "10  7 i yes"
      ]
     },
     "metadata": {},
     "output_type": "display_data"
    }
   ],
   "source": [
    "arrange(df, a)"
   ]
  },
  {
   "cell_type": "code",
   "execution_count": 6,
   "id": "43d1c59a",
   "metadata": {},
   "outputs": [
    {
     "data": {
      "text/html": [
       "<table class=\"dataframe\">\n",
       "<caption>A data.frame: 10 × 3</caption>\n",
       "<thead>\n",
       "\t<tr><th></th><th scope=col>a</th><th scope=col>b</th><th scope=col>c</th></tr>\n",
       "\t<tr><th></th><th scope=col>&lt;dbl&gt;</th><th scope=col>&lt;chr&gt;</th><th scope=col>&lt;chr&gt;</th></tr>\n",
       "</thead>\n",
       "<tbody>\n",
       "\t<tr><th scope=row>9</th><td>-8</td><td>l</td><td>yes</td></tr>\n",
       "\t<tr><th scope=row>4</th><td>-7</td><td>g</td><td>no </td></tr>\n",
       "\t<tr><th scope=row>7</th><td>-7</td><td>j</td><td>no </td></tr>\n",
       "\t<tr><th scope=row>2</th><td>-6</td><td>e</td><td>no </td></tr>\n",
       "\t<tr><th scope=row>3</th><td>-6</td><td>f</td><td>no </td></tr>\n",
       "\t<tr><th scope=row>10</th><td>-6</td><td>m</td><td>no </td></tr>\n",
       "\t<tr><th scope=row>1</th><td>-1</td><td>d</td><td>yes</td></tr>\n",
       "\t<tr><th scope=row>5</th><td> 0</td><td>h</td><td>no </td></tr>\n",
       "\t<tr><th scope=row>8</th><td> 1</td><td>k</td><td>yes</td></tr>\n",
       "\t<tr><th scope=row>6</th><td> 7</td><td>i</td><td>yes</td></tr>\n",
       "</tbody>\n",
       "</table>\n"
      ],
      "text/latex": [
       "A data.frame: 10 × 3\n",
       "\\begin{tabular}{r|lll}\n",
       "  & a & b & c\\\\\n",
       "  & <dbl> & <chr> & <chr>\\\\\n",
       "\\hline\n",
       "\t9 & -8 & l & yes\\\\\n",
       "\t4 & -7 & g & no \\\\\n",
       "\t7 & -7 & j & no \\\\\n",
       "\t2 & -6 & e & no \\\\\n",
       "\t3 & -6 & f & no \\\\\n",
       "\t10 & -6 & m & no \\\\\n",
       "\t1 & -1 & d & yes\\\\\n",
       "\t5 &  0 & h & no \\\\\n",
       "\t8 &  1 & k & yes\\\\\n",
       "\t6 &  7 & i & yes\\\\\n",
       "\\end{tabular}\n"
      ],
      "text/markdown": [
       "\n",
       "A data.frame: 10 × 3\n",
       "\n",
       "| <!--/--> | a &lt;dbl&gt; | b &lt;chr&gt; | c &lt;chr&gt; |\n",
       "|---|---|---|---|\n",
       "| 9 | -8 | l | yes |\n",
       "| 4 | -7 | g | no  |\n",
       "| 7 | -7 | j | no  |\n",
       "| 2 | -6 | e | no  |\n",
       "| 3 | -6 | f | no  |\n",
       "| 10 | -6 | m | no  |\n",
       "| 1 | -1 | d | yes |\n",
       "| 5 |  0 | h | no  |\n",
       "| 8 |  1 | k | yes |\n",
       "| 6 |  7 | i | yes |\n",
       "\n"
      ],
      "text/plain": [
       "   a  b c  \n",
       "9  -8 l yes\n",
       "4  -7 g no \n",
       "7  -7 j no \n",
       "2  -6 e no \n",
       "3  -6 f no \n",
       "10 -6 m no \n",
       "1  -1 d yes\n",
       "5   0 h no \n",
       "8   1 k yes\n",
       "6   7 i yes"
      ]
     },
     "metadata": {},
     "output_type": "display_data"
    }
   ],
   "source": [
    "df[with (df, order(a)),]"
   ]
  },
  {
   "cell_type": "code",
   "execution_count": 7,
   "id": "22e1f749",
   "metadata": {},
   "outputs": [
    {
     "name": "stdout",
     "output_type": "stream",
     "text": [
      "      [,1] [,2] [,3] [,4]\n",
      " [1,]    1   11   21   31\n",
      " [2,]    2   12   22   32\n",
      " [3,]    3   13   23   33\n",
      " [4,]    4   14   24   34\n",
      " [5,]    5   15   25   35\n",
      " [6,]    6   16   26   36\n",
      " [7,]    7   17   27   37\n",
      " [8,]    8   18   28   38\n",
      " [9,]    9   19   29   39\n",
      "[10,]   10   20   30   40\n"
     ]
    }
   ],
   "source": [
    "matrix.data = matrix(1:40, nrow = 10)\n",
    "print(matrix.data)"
   ]
  },
  {
   "cell_type": "code",
   "execution_count": 8,
   "id": "bb978cca",
   "metadata": {},
   "outputs": [
    {
     "data": {
      "text/html": [
       "<table class=\"dataframe\">\n",
       "<caption>A data.frame: 10 × 4</caption>\n",
       "<thead>\n",
       "\t<tr><th scope=col>X1</th><th scope=col>X2</th><th scope=col>X3</th><th scope=col>X4</th></tr>\n",
       "\t<tr><th scope=col>&lt;int&gt;</th><th scope=col>&lt;int&gt;</th><th scope=col>&lt;int&gt;</th><th scope=col>&lt;int&gt;</th></tr>\n",
       "</thead>\n",
       "<tbody>\n",
       "\t<tr><td> 1</td><td>11</td><td>21</td><td>31</td></tr>\n",
       "\t<tr><td> 2</td><td>12</td><td>22</td><td>32</td></tr>\n",
       "\t<tr><td> 3</td><td>13</td><td>23</td><td>33</td></tr>\n",
       "\t<tr><td> 4</td><td>14</td><td>24</td><td>34</td></tr>\n",
       "\t<tr><td> 5</td><td>15</td><td>25</td><td>35</td></tr>\n",
       "\t<tr><td> 6</td><td>16</td><td>26</td><td>36</td></tr>\n",
       "\t<tr><td> 7</td><td>17</td><td>27</td><td>37</td></tr>\n",
       "\t<tr><td> 8</td><td>18</td><td>28</td><td>38</td></tr>\n",
       "\t<tr><td> 9</td><td>19</td><td>29</td><td>39</td></tr>\n",
       "\t<tr><td>10</td><td>20</td><td>30</td><td>40</td></tr>\n",
       "</tbody>\n",
       "</table>\n"
      ],
      "text/latex": [
       "A data.frame: 10 × 4\n",
       "\\begin{tabular}{llll}\n",
       " X1 & X2 & X3 & X4\\\\\n",
       " <int> & <int> & <int> & <int>\\\\\n",
       "\\hline\n",
       "\t  1 & 11 & 21 & 31\\\\\n",
       "\t  2 & 12 & 22 & 32\\\\\n",
       "\t  3 & 13 & 23 & 33\\\\\n",
       "\t  4 & 14 & 24 & 34\\\\\n",
       "\t  5 & 15 & 25 & 35\\\\\n",
       "\t  6 & 16 & 26 & 36\\\\\n",
       "\t  7 & 17 & 27 & 37\\\\\n",
       "\t  8 & 18 & 28 & 38\\\\\n",
       "\t  9 & 19 & 29 & 39\\\\\n",
       "\t 10 & 20 & 30 & 40\\\\\n",
       "\\end{tabular}\n"
      ],
      "text/markdown": [
       "\n",
       "A data.frame: 10 × 4\n",
       "\n",
       "| X1 &lt;int&gt; | X2 &lt;int&gt; | X3 &lt;int&gt; | X4 &lt;int&gt; |\n",
       "|---|---|---|---|\n",
       "|  1 | 11 | 21 | 31 |\n",
       "|  2 | 12 | 22 | 32 |\n",
       "|  3 | 13 | 23 | 33 |\n",
       "|  4 | 14 | 24 | 34 |\n",
       "|  5 | 15 | 25 | 35 |\n",
       "|  6 | 16 | 26 | 36 |\n",
       "|  7 | 17 | 27 | 37 |\n",
       "|  8 | 18 | 28 | 38 |\n",
       "|  9 | 19 | 29 | 39 |\n",
       "| 10 | 20 | 30 | 40 |\n",
       "\n"
      ],
      "text/plain": [
       "   X1 X2 X3 X4\n",
       "1   1 11 21 31\n",
       "2   2 12 22 32\n",
       "3   3 13 23 33\n",
       "4   4 14 24 34\n",
       "5   5 15 25 35\n",
       "6   6 16 26 36\n",
       "7   7 17 27 37\n",
       "8   8 18 28 38\n",
       "9   9 19 29 39\n",
       "10 10 20 30 40"
      ]
     },
     "metadata": {},
     "output_type": "display_data"
    }
   ],
   "source": [
    "df2 = data.frame(matrix.data)\n",
    "df2"
   ]
  },
  {
   "cell_type": "code",
   "execution_count": 9,
   "id": "9d03c63d",
   "metadata": {},
   "outputs": [],
   "source": [
    "colnames(df2) = sub(' ','', paste('variable_', 1:ncol(df2)))\n",
    "rownames(df2) = sub(' ','', paste('id_', 1:nrow(df2)))"
   ]
  },
  {
   "cell_type": "code",
   "execution_count": 10,
   "id": "2d90db5b",
   "metadata": {},
   "outputs": [
    {
     "data": {
      "text/html": [
       "<table class=\"dataframe\">\n",
       "<caption>A data.frame: 10 × 4</caption>\n",
       "<thead>\n",
       "\t<tr><th></th><th scope=col>variable_1</th><th scope=col>variable_2</th><th scope=col>variable_3</th><th scope=col>variable_4</th></tr>\n",
       "\t<tr><th></th><th scope=col>&lt;int&gt;</th><th scope=col>&lt;int&gt;</th><th scope=col>&lt;int&gt;</th><th scope=col>&lt;int&gt;</th></tr>\n",
       "</thead>\n",
       "<tbody>\n",
       "\t<tr><th scope=row>id_1</th><td> 1</td><td>11</td><td>21</td><td>31</td></tr>\n",
       "\t<tr><th scope=row>id_2</th><td> 2</td><td>12</td><td>22</td><td>32</td></tr>\n",
       "\t<tr><th scope=row>id_3</th><td> 3</td><td>13</td><td>23</td><td>33</td></tr>\n",
       "\t<tr><th scope=row>id_4</th><td> 4</td><td>14</td><td>24</td><td>34</td></tr>\n",
       "\t<tr><th scope=row>id_5</th><td> 5</td><td>15</td><td>25</td><td>35</td></tr>\n",
       "\t<tr><th scope=row>id_6</th><td> 6</td><td>16</td><td>26</td><td>36</td></tr>\n",
       "\t<tr><th scope=row>id_7</th><td> 7</td><td>17</td><td>27</td><td>37</td></tr>\n",
       "\t<tr><th scope=row>id_8</th><td> 8</td><td>18</td><td>28</td><td>38</td></tr>\n",
       "\t<tr><th scope=row>id_9</th><td> 9</td><td>19</td><td>29</td><td>39</td></tr>\n",
       "\t<tr><th scope=row>id_10</th><td>10</td><td>20</td><td>30</td><td>40</td></tr>\n",
       "</tbody>\n",
       "</table>\n"
      ],
      "text/latex": [
       "A data.frame: 10 × 4\n",
       "\\begin{tabular}{r|llll}\n",
       "  & variable\\_1 & variable\\_2 & variable\\_3 & variable\\_4\\\\\n",
       "  & <int> & <int> & <int> & <int>\\\\\n",
       "\\hline\n",
       "\tid\\_1 &  1 & 11 & 21 & 31\\\\\n",
       "\tid\\_2 &  2 & 12 & 22 & 32\\\\\n",
       "\tid\\_3 &  3 & 13 & 23 & 33\\\\\n",
       "\tid\\_4 &  4 & 14 & 24 & 34\\\\\n",
       "\tid\\_5 &  5 & 15 & 25 & 35\\\\\n",
       "\tid\\_6 &  6 & 16 & 26 & 36\\\\\n",
       "\tid\\_7 &  7 & 17 & 27 & 37\\\\\n",
       "\tid\\_8 &  8 & 18 & 28 & 38\\\\\n",
       "\tid\\_9 &  9 & 19 & 29 & 39\\\\\n",
       "\tid\\_10 & 10 & 20 & 30 & 40\\\\\n",
       "\\end{tabular}\n"
      ],
      "text/markdown": [
       "\n",
       "A data.frame: 10 × 4\n",
       "\n",
       "| <!--/--> | variable_1 &lt;int&gt; | variable_2 &lt;int&gt; | variable_3 &lt;int&gt; | variable_4 &lt;int&gt; |\n",
       "|---|---|---|---|---|\n",
       "| id_1 |  1 | 11 | 21 | 31 |\n",
       "| id_2 |  2 | 12 | 22 | 32 |\n",
       "| id_3 |  3 | 13 | 23 | 33 |\n",
       "| id_4 |  4 | 14 | 24 | 34 |\n",
       "| id_5 |  5 | 15 | 25 | 35 |\n",
       "| id_6 |  6 | 16 | 26 | 36 |\n",
       "| id_7 |  7 | 17 | 27 | 37 |\n",
       "| id_8 |  8 | 18 | 28 | 38 |\n",
       "| id_9 |  9 | 19 | 29 | 39 |\n",
       "| id_10 | 10 | 20 | 30 | 40 |\n",
       "\n"
      ],
      "text/plain": [
       "      variable_1 variable_2 variable_3 variable_4\n",
       "id_1   1         11         21         31        \n",
       "id_2   2         12         22         32        \n",
       "id_3   3         13         23         33        \n",
       "id_4   4         14         24         34        \n",
       "id_5   5         15         25         35        \n",
       "id_6   6         16         26         36        \n",
       "id_7   7         17         27         37        \n",
       "id_8   8         18         28         38        \n",
       "id_9   9         19         29         39        \n",
       "id_10 10         20         30         40        "
      ]
     },
     "metadata": {},
     "output_type": "display_data"
    }
   ],
   "source": [
    "df2"
   ]
  },
  {
   "cell_type": "code",
   "execution_count": null,
   "id": "eb4e0fab",
   "metadata": {},
   "outputs": [],
   "source": []
  }
 ],
 "metadata": {
  "kernelspec": {
   "display_name": "R",
   "language": "R",
   "name": "ir"
  },
  "language_info": {
   "codemirror_mode": "r",
   "file_extension": ".r",
   "mimetype": "text/x-r-source",
   "name": "R",
   "pygments_lexer": "r",
   "version": "4.1.0"
  }
 },
 "nbformat": 4,
 "nbformat_minor": 5
}
