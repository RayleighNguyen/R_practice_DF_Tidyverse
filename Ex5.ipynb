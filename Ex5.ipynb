{
 "cells": [
  {
   "cell_type": "code",
   "execution_count": 1,
   "id": "db644482",
   "metadata": {},
   "outputs": [
    {
     "name": "stderr",
     "output_type": "stream",
     "text": [
      "── \u001b[1mAttaching packages\u001b[22m ─────────────────────────────────────── tidyverse 1.3.1 ──\n",
      "\n",
      "\u001b[32m✔\u001b[39m \u001b[34mggplot2\u001b[39m 3.3.5     \u001b[32m✔\u001b[39m \u001b[34mpurrr  \u001b[39m 0.3.4\n",
      "\u001b[32m✔\u001b[39m \u001b[34mtibble \u001b[39m 3.1.2     \u001b[32m✔\u001b[39m \u001b[34mdplyr  \u001b[39m 1.0.7\n",
      "\u001b[32m✔\u001b[39m \u001b[34mtidyr  \u001b[39m 1.1.3     \u001b[32m✔\u001b[39m \u001b[34mstringr\u001b[39m 1.4.0\n",
      "\u001b[32m✔\u001b[39m \u001b[34mreadr  \u001b[39m 1.4.0     \u001b[32m✔\u001b[39m \u001b[34mforcats\u001b[39m 0.5.1\n",
      "\n",
      "── \u001b[1mConflicts\u001b[22m ────────────────────────────────────────── tidyverse_conflicts() ──\n",
      "\u001b[31m✖\u001b[39m \u001b[34mdplyr\u001b[39m::\u001b[32mfilter()\u001b[39m masks \u001b[34mstats\u001b[39m::filter()\n",
      "\u001b[31m✖\u001b[39m \u001b[34mdplyr\u001b[39m::\u001b[32mlag()\u001b[39m    masks \u001b[34mstats\u001b[39m::lag()\n",
      "\n"
     ]
    }
   ],
   "source": [
    "library('tidyverse')"
   ]
  },
  {
   "cell_type": "code",
   "execution_count": 5,
   "id": "f9afc560",
   "metadata": {
    "scrolled": true
   },
   "outputs": [
    {
     "name": "stderr",
     "output_type": "stream",
     "text": [
      "\n",
      "\u001b[36m──\u001b[39m \u001b[1m\u001b[1mColumn specification\u001b[1m\u001b[22m \u001b[36m────────────────────────────────────────────────────────\u001b[39m\n",
      "cols(\n",
      "  id = \u001b[32mcol_double()\u001b[39m,\n",
      "  gender = \u001b[31mcol_character()\u001b[39m,\n",
      "  height = \u001b[32mcol_double()\u001b[39m,\n",
      "  weight = \u001b[32mcol_double()\u001b[39m,\n",
      "  bmi = \u001b[32mcol_double()\u001b[39m,\n",
      "  age = \u001b[32mcol_double()\u001b[39m,\n",
      "  bmc = \u001b[32mcol_double()\u001b[39m,\n",
      "  bmd = \u001b[32mcol_double()\u001b[39m,\n",
      "  fat = \u001b[32mcol_double()\u001b[39m,\n",
      "  lean = \u001b[32mcol_double()\u001b[39m,\n",
      "  pcfat = \u001b[32mcol_double()\u001b[39m\n",
      ")\n",
      "\n",
      "\n"
     ]
    },
    {
     "data": {
      "text/html": [
       "'data.frame'"
      ],
      "text/latex": [
       "'data.frame'"
      ],
      "text/markdown": [
       "'data.frame'"
      ],
      "text/plain": [
       "[1] \"data.frame\""
      ]
     },
     "metadata": {},
     "output_type": "display_data"
    }
   ],
   "source": [
    "data = data.frame(read_csv('Obesity_data.csv'))\n",
    "class(data)"
   ]
  },
  {
   "cell_type": "code",
   "execution_count": 6,
   "id": "576d6468",
   "metadata": {},
   "outputs": [
    {
     "name": "stdout",
     "output_type": "stream",
     "text": [
      "  id gender height weight  bmi age  bmc  bmd   fat  lean pcfat\n",
      "1  1      F    150     49 21.8  53 1312 0.88 17802 28600  37.3\n",
      "2  2      M    165     52 19.1  65 1309 0.84  8381 40229  16.8\n",
      "3  3      F    157     57 23.1  64 1230 0.84 19221 36057  34.0\n",
      "4  4      F    156     53 21.8  56 1171 0.80 17472 33094  33.8\n",
      "5  5      M    160     51 19.9  54 1681 0.98  7336 40621  14.8\n",
      "6  6      F    153     47 20.1  52 1358 0.91 14904 30068  32.2\n"
     ]
    }
   ],
   "source": [
    "print(head(data))"
   ]
  },
  {
   "cell_type": "code",
   "execution_count": 7,
   "id": "f27e4d75",
   "metadata": {},
   "outputs": [],
   "source": [
    "data1 = select(data, c(gender, height, weight, bmi, age))"
   ]
  },
  {
   "cell_type": "code",
   "execution_count": 9,
   "id": "722bc739",
   "metadata": {},
   "outputs": [
    {
     "data": {
      "text/html": [
       "<table class=\"dataframe\">\n",
       "<caption>A data.frame: 6 × 5</caption>\n",
       "<thead>\n",
       "\t<tr><th></th><th scope=col>gender</th><th scope=col>height</th><th scope=col>weight</th><th scope=col>bmi</th><th scope=col>age</th></tr>\n",
       "\t<tr><th></th><th scope=col>&lt;chr&gt;</th><th scope=col>&lt;dbl&gt;</th><th scope=col>&lt;dbl&gt;</th><th scope=col>&lt;dbl&gt;</th><th scope=col>&lt;dbl&gt;</th></tr>\n",
       "</thead>\n",
       "<tbody>\n",
       "\t<tr><th scope=row>1</th><td>F</td><td>150</td><td>49</td><td>21.8</td><td>53</td></tr>\n",
       "\t<tr><th scope=row>2</th><td>M</td><td>165</td><td>52</td><td>19.1</td><td>65</td></tr>\n",
       "\t<tr><th scope=row>3</th><td>F</td><td>157</td><td>57</td><td>23.1</td><td>64</td></tr>\n",
       "\t<tr><th scope=row>4</th><td>F</td><td>156</td><td>53</td><td>21.8</td><td>56</td></tr>\n",
       "\t<tr><th scope=row>5</th><td>M</td><td>160</td><td>51</td><td>19.9</td><td>54</td></tr>\n",
       "\t<tr><th scope=row>6</th><td>F</td><td>153</td><td>47</td><td>20.1</td><td>52</td></tr>\n",
       "</tbody>\n",
       "</table>\n"
      ],
      "text/latex": [
       "A data.frame: 6 × 5\n",
       "\\begin{tabular}{r|lllll}\n",
       "  & gender & height & weight & bmi & age\\\\\n",
       "  & <chr> & <dbl> & <dbl> & <dbl> & <dbl>\\\\\n",
       "\\hline\n",
       "\t1 & F & 150 & 49 & 21.8 & 53\\\\\n",
       "\t2 & M & 165 & 52 & 19.1 & 65\\\\\n",
       "\t3 & F & 157 & 57 & 23.1 & 64\\\\\n",
       "\t4 & F & 156 & 53 & 21.8 & 56\\\\\n",
       "\t5 & M & 160 & 51 & 19.9 & 54\\\\\n",
       "\t6 & F & 153 & 47 & 20.1 & 52\\\\\n",
       "\\end{tabular}\n"
      ],
      "text/markdown": [
       "\n",
       "A data.frame: 6 × 5\n",
       "\n",
       "| <!--/--> | gender &lt;chr&gt; | height &lt;dbl&gt; | weight &lt;dbl&gt; | bmi &lt;dbl&gt; | age &lt;dbl&gt; |\n",
       "|---|---|---|---|---|---|\n",
       "| 1 | F | 150 | 49 | 21.8 | 53 |\n",
       "| 2 | M | 165 | 52 | 19.1 | 65 |\n",
       "| 3 | F | 157 | 57 | 23.1 | 64 |\n",
       "| 4 | F | 156 | 53 | 21.8 | 56 |\n",
       "| 5 | M | 160 | 51 | 19.9 | 54 |\n",
       "| 6 | F | 153 | 47 | 20.1 | 52 |\n",
       "\n"
      ],
      "text/plain": [
       "  gender height weight bmi  age\n",
       "1 F      150    49     21.8 53 \n",
       "2 M      165    52     19.1 65 \n",
       "3 F      157    57     23.1 64 \n",
       "4 F      156    53     21.8 56 \n",
       "5 M      160    51     19.9 54 \n",
       "6 F      153    47     20.1 52 "
      ]
     },
     "metadata": {},
     "output_type": "display_data"
    }
   ],
   "source": [
    "head(data1)"
   ]
  },
  {
   "cell_type": "code",
   "execution_count": 12,
   "id": "50a9ccc0",
   "metadata": {
    "scrolled": true
   },
   "outputs": [
    {
     "data": {
      "text/html": [
       "<table class=\"dataframe\">\n",
       "<caption>A data.frame: 6 × 5</caption>\n",
       "<thead>\n",
       "\t<tr><th></th><th scope=col>gender</th><th scope=col>height</th><th scope=col>weight</th><th scope=col>bmi</th><th scope=col>age</th></tr>\n",
       "\t<tr><th></th><th scope=col>&lt;chr&gt;</th><th scope=col>&lt;dbl&gt;</th><th scope=col>&lt;dbl&gt;</th><th scope=col>&lt;dbl&gt;</th><th scope=col>&lt;dbl&gt;</th></tr>\n",
       "</thead>\n",
       "<tbody>\n",
       "\t<tr><th scope=row>1</th><td>F</td><td>150</td><td>49</td><td>21.8</td><td>53</td></tr>\n",
       "\t<tr><th scope=row>2</th><td>M</td><td>165</td><td>52</td><td>19.1</td><td>65</td></tr>\n",
       "\t<tr><th scope=row>3</th><td>F</td><td>157</td><td>57</td><td>23.1</td><td>64</td></tr>\n",
       "\t<tr><th scope=row>4</th><td>F</td><td>156</td><td>53</td><td>21.8</td><td>56</td></tr>\n",
       "\t<tr><th scope=row>5</th><td>M</td><td>160</td><td>51</td><td>19.9</td><td>54</td></tr>\n",
       "\t<tr><th scope=row>6</th><td>F</td><td>153</td><td>47</td><td>20.1</td><td>52</td></tr>\n",
       "</tbody>\n",
       "</table>\n"
      ],
      "text/latex": [
       "A data.frame: 6 × 5\n",
       "\\begin{tabular}{r|lllll}\n",
       "  & gender & height & weight & bmi & age\\\\\n",
       "  & <chr> & <dbl> & <dbl> & <dbl> & <dbl>\\\\\n",
       "\\hline\n",
       "\t1 & F & 150 & 49 & 21.8 & 53\\\\\n",
       "\t2 & M & 165 & 52 & 19.1 & 65\\\\\n",
       "\t3 & F & 157 & 57 & 23.1 & 64\\\\\n",
       "\t4 & F & 156 & 53 & 21.8 & 56\\\\\n",
       "\t5 & M & 160 & 51 & 19.9 & 54\\\\\n",
       "\t6 & F & 153 & 47 & 20.1 & 52\\\\\n",
       "\\end{tabular}\n"
      ],
      "text/markdown": [
       "\n",
       "A data.frame: 6 × 5\n",
       "\n",
       "| <!--/--> | gender &lt;chr&gt; | height &lt;dbl&gt; | weight &lt;dbl&gt; | bmi &lt;dbl&gt; | age &lt;dbl&gt; |\n",
       "|---|---|---|---|---|---|\n",
       "| 1 | F | 150 | 49 | 21.8 | 53 |\n",
       "| 2 | M | 165 | 52 | 19.1 | 65 |\n",
       "| 3 | F | 157 | 57 | 23.1 | 64 |\n",
       "| 4 | F | 156 | 53 | 21.8 | 56 |\n",
       "| 5 | M | 160 | 51 | 19.9 | 54 |\n",
       "| 6 | F | 153 | 47 | 20.1 | 52 |\n",
       "\n"
      ],
      "text/plain": [
       "  gender height weight bmi  age\n",
       "1 F      150    49     21.8 53 \n",
       "2 M      165    52     19.1 65 \n",
       "3 F      157    57     23.1 64 \n",
       "4 F      156    53     21.8 56 \n",
       "5 M      160    51     19.9 54 \n",
       "6 F      153    47     20.1 52 "
      ]
     },
     "metadata": {},
     "output_type": "display_data"
    }
   ],
   "source": [
    "data2 = filter(data1, 18.5 <= bmi, bmi <= 24.9)\n",
    "head(data2)"
   ]
  },
  {
   "cell_type": "code",
   "execution_count": 20,
   "id": "26ca7737",
   "metadata": {},
   "outputs": [
    {
     "data": {
      "text/html": [
       "865"
      ],
      "text/latex": [
       "865"
      ],
      "text/markdown": [
       "865"
      ],
      "text/plain": [
       "[1] 865"
      ]
     },
     "metadata": {},
     "output_type": "display_data"
    }
   ],
   "source": [
    "nrow(data2)"
   ]
  },
  {
   "cell_type": "code",
   "execution_count": 17,
   "id": "4aed7d56",
   "metadata": {},
   "outputs": [
    {
     "data": {
      "text/html": [
       "<table class=\"dataframe\">\n",
       "<caption>A data.frame: 6 × 6</caption>\n",
       "<thead>\n",
       "\t<tr><th></th><th scope=col>gender</th><th scope=col>height</th><th scope=col>weight</th><th scope=col>bmi</th><th scope=col>age</th><th scope=col>height_m</th></tr>\n",
       "\t<tr><th></th><th scope=col>&lt;chr&gt;</th><th scope=col>&lt;dbl&gt;</th><th scope=col>&lt;dbl&gt;</th><th scope=col>&lt;dbl&gt;</th><th scope=col>&lt;dbl&gt;</th><th scope=col>&lt;dbl&gt;</th></tr>\n",
       "</thead>\n",
       "<tbody>\n",
       "\t<tr><th scope=row>1</th><td>F</td><td>150</td><td>49</td><td>21.8</td><td>53</td><td>1.50</td></tr>\n",
       "\t<tr><th scope=row>2</th><td>M</td><td>165</td><td>52</td><td>19.1</td><td>65</td><td>1.65</td></tr>\n",
       "\t<tr><th scope=row>3</th><td>F</td><td>157</td><td>57</td><td>23.1</td><td>64</td><td>1.57</td></tr>\n",
       "\t<tr><th scope=row>4</th><td>F</td><td>156</td><td>53</td><td>21.8</td><td>56</td><td>1.56</td></tr>\n",
       "\t<tr><th scope=row>5</th><td>M</td><td>160</td><td>51</td><td>19.9</td><td>54</td><td>1.60</td></tr>\n",
       "\t<tr><th scope=row>6</th><td>F</td><td>153</td><td>47</td><td>20.1</td><td>52</td><td>1.53</td></tr>\n",
       "</tbody>\n",
       "</table>\n"
      ],
      "text/latex": [
       "A data.frame: 6 × 6\n",
       "\\begin{tabular}{r|llllll}\n",
       "  & gender & height & weight & bmi & age & height\\_m\\\\\n",
       "  & <chr> & <dbl> & <dbl> & <dbl> & <dbl> & <dbl>\\\\\n",
       "\\hline\n",
       "\t1 & F & 150 & 49 & 21.8 & 53 & 1.50\\\\\n",
       "\t2 & M & 165 & 52 & 19.1 & 65 & 1.65\\\\\n",
       "\t3 & F & 157 & 57 & 23.1 & 64 & 1.57\\\\\n",
       "\t4 & F & 156 & 53 & 21.8 & 56 & 1.56\\\\\n",
       "\t5 & M & 160 & 51 & 19.9 & 54 & 1.60\\\\\n",
       "\t6 & F & 153 & 47 & 20.1 & 52 & 1.53\\\\\n",
       "\\end{tabular}\n"
      ],
      "text/markdown": [
       "\n",
       "A data.frame: 6 × 6\n",
       "\n",
       "| <!--/--> | gender &lt;chr&gt; | height &lt;dbl&gt; | weight &lt;dbl&gt; | bmi &lt;dbl&gt; | age &lt;dbl&gt; | height_m &lt;dbl&gt; |\n",
       "|---|---|---|---|---|---|---|\n",
       "| 1 | F | 150 | 49 | 21.8 | 53 | 1.50 |\n",
       "| 2 | M | 165 | 52 | 19.1 | 65 | 1.65 |\n",
       "| 3 | F | 157 | 57 | 23.1 | 64 | 1.57 |\n",
       "| 4 | F | 156 | 53 | 21.8 | 56 | 1.56 |\n",
       "| 5 | M | 160 | 51 | 19.9 | 54 | 1.60 |\n",
       "| 6 | F | 153 | 47 | 20.1 | 52 | 1.53 |\n",
       "\n"
      ],
      "text/plain": [
       "  gender height weight bmi  age height_m\n",
       "1 F      150    49     21.8 53  1.50    \n",
       "2 M      165    52     19.1 65  1.65    \n",
       "3 F      157    57     23.1 64  1.57    \n",
       "4 F      156    53     21.8 56  1.56    \n",
       "5 M      160    51     19.9 54  1.60    \n",
       "6 F      153    47     20.1 52  1.53    "
      ]
     },
     "metadata": {},
     "output_type": "display_data"
    }
   ],
   "source": [
    "data1 = mutate(data1, height_m = height/100)\n",
    "head(data1)"
   ]
  },
  {
   "cell_type": "code",
   "execution_count": 15,
   "id": "907c5353",
   "metadata": {},
   "outputs": [
    {
     "data": {
      "text/html": [
       "<table class=\"dataframe\">\n",
       "<caption>A data.frame: 6 × 6</caption>\n",
       "<thead>\n",
       "\t<tr><th></th><th scope=col>gender</th><th scope=col>height</th><th scope=col>weight</th><th scope=col>bmi</th><th scope=col>age</th><th scope=col>height_m</th></tr>\n",
       "\t<tr><th></th><th scope=col>&lt;chr&gt;</th><th scope=col>&lt;dbl&gt;</th><th scope=col>&lt;dbl&gt;</th><th scope=col>&lt;dbl&gt;</th><th scope=col>&lt;dbl&gt;</th><th scope=col>&lt;dbl&gt;</th></tr>\n",
       "</thead>\n",
       "<tbody>\n",
       "\t<tr><th scope=row>1</th><td>M</td><td>162</td><td>38</td><td>14.5</td><td>55</td><td>1.62</td></tr>\n",
       "\t<tr><th scope=row>2</th><td>F</td><td>162</td><td>40</td><td>15.2</td><td>54</td><td>1.62</td></tr>\n",
       "\t<tr><th scope=row>3</th><td>F</td><td>151</td><td>35</td><td>15.4</td><td>33</td><td>1.51</td></tr>\n",
       "\t<tr><th scope=row>4</th><td>F</td><td>155</td><td>37</td><td>15.4</td><td>44</td><td>1.55</td></tr>\n",
       "\t<tr><th scope=row>5</th><td>F</td><td>150</td><td>35</td><td>15.6</td><td>24</td><td>1.50</td></tr>\n",
       "\t<tr><th scope=row>6</th><td>M</td><td>169</td><td>45</td><td>15.8</td><td>50</td><td>1.69</td></tr>\n",
       "</tbody>\n",
       "</table>\n"
      ],
      "text/latex": [
       "A data.frame: 6 × 6\n",
       "\\begin{tabular}{r|llllll}\n",
       "  & gender & height & weight & bmi & age & height\\_m\\\\\n",
       "  & <chr> & <dbl> & <dbl> & <dbl> & <dbl> & <dbl>\\\\\n",
       "\\hline\n",
       "\t1 & M & 162 & 38 & 14.5 & 55 & 1.62\\\\\n",
       "\t2 & F & 162 & 40 & 15.2 & 54 & 1.62\\\\\n",
       "\t3 & F & 151 & 35 & 15.4 & 33 & 1.51\\\\\n",
       "\t4 & F & 155 & 37 & 15.4 & 44 & 1.55\\\\\n",
       "\t5 & F & 150 & 35 & 15.6 & 24 & 1.50\\\\\n",
       "\t6 & M & 169 & 45 & 15.8 & 50 & 1.69\\\\\n",
       "\\end{tabular}\n"
      ],
      "text/markdown": [
       "\n",
       "A data.frame: 6 × 6\n",
       "\n",
       "| <!--/--> | gender &lt;chr&gt; | height &lt;dbl&gt; | weight &lt;dbl&gt; | bmi &lt;dbl&gt; | age &lt;dbl&gt; | height_m &lt;dbl&gt; |\n",
       "|---|---|---|---|---|---|---|\n",
       "| 1 | M | 162 | 38 | 14.5 | 55 | 1.62 |\n",
       "| 2 | F | 162 | 40 | 15.2 | 54 | 1.62 |\n",
       "| 3 | F | 151 | 35 | 15.4 | 33 | 1.51 |\n",
       "| 4 | F | 155 | 37 | 15.4 | 44 | 1.55 |\n",
       "| 5 | F | 150 | 35 | 15.6 | 24 | 1.50 |\n",
       "| 6 | M | 169 | 45 | 15.8 | 50 | 1.69 |\n",
       "\n"
      ],
      "text/plain": [
       "  gender height weight bmi  age height_m\n",
       "1 M      162    38     14.5 55  1.62    \n",
       "2 F      162    40     15.2 54  1.62    \n",
       "3 F      151    35     15.4 33  1.51    \n",
       "4 F      155    37     15.4 44  1.55    \n",
       "5 F      150    35     15.6 24  1.50    \n",
       "6 M      169    45     15.8 50  1.69    "
      ]
     },
     "metadata": {},
     "output_type": "display_data"
    }
   ],
   "source": [
    "head(arrange(data1, bmi))"
   ]
  },
  {
   "cell_type": "code",
   "execution_count": 21,
   "id": "c14ddd45",
   "metadata": {},
   "outputs": [
    {
     "data": {
      "text/html": [
       "<table class=\"dataframe\">\n",
       "<caption>A tibble: 2 × 4</caption>\n",
       "<thead>\n",
       "\t<tr><th scope=col>gender</th><th scope=col>count</th><th scope=col>mean.height</th><th scope=col>mean.weight</th></tr>\n",
       "\t<tr><th scope=col>&lt;chr&gt;</th><th scope=col>&lt;int&gt;</th><th scope=col>&lt;dbl&gt;</th><th scope=col>&lt;dbl&gt;</th></tr>\n",
       "</thead>\n",
       "<tbody>\n",
       "\t<tr><td>F</td><td>862</td><td>153.2912</td><td>52.31090</td></tr>\n",
       "\t<tr><td>M</td><td>355</td><td>165.0592</td><td>62.02254</td></tr>\n",
       "</tbody>\n",
       "</table>\n"
      ],
      "text/latex": [
       "A tibble: 2 × 4\n",
       "\\begin{tabular}{llll}\n",
       " gender & count & mean.height & mean.weight\\\\\n",
       " <chr> & <int> & <dbl> & <dbl>\\\\\n",
       "\\hline\n",
       "\t F & 862 & 153.2912 & 52.31090\\\\\n",
       "\t M & 355 & 165.0592 & 62.02254\\\\\n",
       "\\end{tabular}\n"
      ],
      "text/markdown": [
       "\n",
       "A tibble: 2 × 4\n",
       "\n",
       "| gender &lt;chr&gt; | count &lt;int&gt; | mean.height &lt;dbl&gt; | mean.weight &lt;dbl&gt; |\n",
       "|---|---|---|---|\n",
       "| F | 862 | 153.2912 | 52.31090 |\n",
       "| M | 355 | 165.0592 | 62.02254 |\n",
       "\n"
      ],
      "text/plain": [
       "  gender count mean.height mean.weight\n",
       "1 F      862   153.2912    52.31090   \n",
       "2 M      355   165.0592    62.02254   "
      ]
     },
     "metadata": {},
     "output_type": "display_data"
    }
   ],
   "source": [
    "summarise(group_by(data1, gender), \n",
    "         count = n(),\n",
    "         mean.height = mean(height, na.rm = T),\n",
    "         mean.weight = mean(weight, na.rm = T)\n",
    "         )"
   ]
  },
  {
   "cell_type": "code",
   "execution_count": 22,
   "id": "fce2a731",
   "metadata": {},
   "outputs": [
    {
     "data": {
      "text/html": [
       "<table class=\"dataframe\">\n",
       "<caption>A data.frame: 2 × 2</caption>\n",
       "<thead>\n",
       "\t<tr><th scope=col>gender</th><th scope=col>n</th></tr>\n",
       "\t<tr><th scope=col>&lt;chr&gt;</th><th scope=col>&lt;int&gt;</th></tr>\n",
       "</thead>\n",
       "<tbody>\n",
       "\t<tr><td>F</td><td>862</td></tr>\n",
       "\t<tr><td>M</td><td>355</td></tr>\n",
       "</tbody>\n",
       "</table>\n"
      ],
      "text/latex": [
       "A data.frame: 2 × 2\n",
       "\\begin{tabular}{ll}\n",
       " gender & n\\\\\n",
       " <chr> & <int>\\\\\n",
       "\\hline\n",
       "\t F & 862\\\\\n",
       "\t M & 355\\\\\n",
       "\\end{tabular}\n"
      ],
      "text/markdown": [
       "\n",
       "A data.frame: 2 × 2\n",
       "\n",
       "| gender &lt;chr&gt; | n &lt;int&gt; |\n",
       "|---|---|\n",
       "| F | 862 |\n",
       "| M | 355 |\n",
       "\n"
      ],
      "text/plain": [
       "  gender n  \n",
       "1 F      862\n",
       "2 M      355"
      ]
     },
     "metadata": {},
     "output_type": "display_data"
    }
   ],
   "source": [
    "count(data1, gender)"
   ]
  },
  {
   "cell_type": "code",
   "execution_count": 24,
   "id": "6f21dffb",
   "metadata": {
    "scrolled": true
   },
   "outputs": [
    {
     "data": {
      "text/html": [
       "<table class=\"dataframe\">\n",
       "<caption>A data.frame: 6 × 2</caption>\n",
       "<thead>\n",
       "\t<tr><th></th><th scope=col>age</th><th scope=col>n</th></tr>\n",
       "\t<tr><th></th><th scope=col>&lt;dbl&gt;</th><th scope=col>&lt;int&gt;</th></tr>\n",
       "</thead>\n",
       "<tbody>\n",
       "\t<tr><th scope=row>1</th><td>13</td><td> 1</td></tr>\n",
       "\t<tr><th scope=row>2</th><td>14</td><td> 4</td></tr>\n",
       "\t<tr><th scope=row>3</th><td>16</td><td> 3</td></tr>\n",
       "\t<tr><th scope=row>4</th><td>17</td><td> 3</td></tr>\n",
       "\t<tr><th scope=row>5</th><td>18</td><td>21</td></tr>\n",
       "\t<tr><th scope=row>6</th><td>19</td><td>47</td></tr>\n",
       "</tbody>\n",
       "</table>\n"
      ],
      "text/latex": [
       "A data.frame: 6 × 2\n",
       "\\begin{tabular}{r|ll}\n",
       "  & age & n\\\\\n",
       "  & <dbl> & <int>\\\\\n",
       "\\hline\n",
       "\t1 & 13 &  1\\\\\n",
       "\t2 & 14 &  4\\\\\n",
       "\t3 & 16 &  3\\\\\n",
       "\t4 & 17 &  3\\\\\n",
       "\t5 & 18 & 21\\\\\n",
       "\t6 & 19 & 47\\\\\n",
       "\\end{tabular}\n"
      ],
      "text/markdown": [
       "\n",
       "A data.frame: 6 × 2\n",
       "\n",
       "| <!--/--> | age &lt;dbl&gt; | n &lt;int&gt; |\n",
       "|---|---|---|\n",
       "| 1 | 13 |  1 |\n",
       "| 2 | 14 |  4 |\n",
       "| 3 | 16 |  3 |\n",
       "| 4 | 17 |  3 |\n",
       "| 5 | 18 | 21 |\n",
       "| 6 | 19 | 47 |\n",
       "\n"
      ],
      "text/plain": [
       "  age n \n",
       "1 13   1\n",
       "2 14   4\n",
       "3 16   3\n",
       "4 17   3\n",
       "5 18  21\n",
       "6 19  47"
      ]
     },
     "metadata": {},
     "output_type": "display_data"
    }
   ],
   "source": [
    "head(count(data1, age))"
   ]
  },
  {
   "cell_type": "code",
   "execution_count": 39,
   "id": "57380351",
   "metadata": {
    "scrolled": true
   },
   "outputs": [
    {
     "data": {
      "text/html": [
       "<table class=\"dataframe\">\n",
       "<caption>A data.frame: 6 × 3</caption>\n",
       "<thead>\n",
       "\t<tr><th></th><th scope=col>gender</th><th scope=col>age</th><th scope=col>n</th></tr>\n",
       "\t<tr><th></th><th scope=col>&lt;chr&gt;</th><th scope=col>&lt;dbl&gt;</th><th scope=col>&lt;int&gt;</th></tr>\n",
       "</thead>\n",
       "<tbody>\n",
       "\t<tr><th scope=row>1</th><td>F</td><td>14</td><td> 4</td></tr>\n",
       "\t<tr><th scope=row>2</th><td>F</td><td>16</td><td> 2</td></tr>\n",
       "\t<tr><th scope=row>3</th><td>F</td><td>18</td><td>10</td></tr>\n",
       "\t<tr><th scope=row>4</th><td>F</td><td>19</td><td>27</td></tr>\n",
       "\t<tr><th scope=row>5</th><td>F</td><td>20</td><td>13</td></tr>\n",
       "\t<tr><th scope=row>6</th><td>F</td><td>21</td><td> 8</td></tr>\n",
       "</tbody>\n",
       "</table>\n"
      ],
      "text/latex": [
       "A data.frame: 6 × 3\n",
       "\\begin{tabular}{r|lll}\n",
       "  & gender & age & n\\\\\n",
       "  & <chr> & <dbl> & <int>\\\\\n",
       "\\hline\n",
       "\t1 & F & 14 &  4\\\\\n",
       "\t2 & F & 16 &  2\\\\\n",
       "\t3 & F & 18 & 10\\\\\n",
       "\t4 & F & 19 & 27\\\\\n",
       "\t5 & F & 20 & 13\\\\\n",
       "\t6 & F & 21 &  8\\\\\n",
       "\\end{tabular}\n"
      ],
      "text/markdown": [
       "\n",
       "A data.frame: 6 × 3\n",
       "\n",
       "| <!--/--> | gender &lt;chr&gt; | age &lt;dbl&gt; | n &lt;int&gt; |\n",
       "|---|---|---|---|\n",
       "| 1 | F | 14 |  4 |\n",
       "| 2 | F | 16 |  2 |\n",
       "| 3 | F | 18 | 10 |\n",
       "| 4 | F | 19 | 27 |\n",
       "| 5 | F | 20 | 13 |\n",
       "| 6 | F | 21 |  8 |\n",
       "\n"
      ],
      "text/plain": [
       "  gender age n \n",
       "1 F      14   4\n",
       "2 F      16   2\n",
       "3 F      18  10\n",
       "4 F      19  27\n",
       "5 F      20  13\n",
       "6 F      21   8"
      ]
     },
     "metadata": {},
     "output_type": "display_data"
    }
   ],
   "source": [
    "group_gender_age = count(data1, gender, age)\n",
    "head(group_gender_age)"
   ]
  },
  {
   "cell_type": "code",
   "execution_count": 40,
   "id": "48baa5d7",
   "metadata": {},
   "outputs": [
    {
     "data": {
      "text/html": [
       "<table class=\"dataframe\">\n",
       "<caption>A data.frame: 6 × 3</caption>\n",
       "<thead>\n",
       "\t<tr><th></th><th scope=col>gender</th><th scope=col>age</th><th scope=col>n</th></tr>\n",
       "\t<tr><th></th><th scope=col>&lt;chr&gt;</th><th scope=col>&lt;dbl&gt;</th><th scope=col>&lt;int&gt;</th></tr>\n",
       "</thead>\n",
       "<tbody>\n",
       "\t<tr><th scope=row>138</th><td>M</td><td>82</td><td>1</td></tr>\n",
       "\t<tr><th scope=row>139</th><td>M</td><td>83</td><td>1</td></tr>\n",
       "\t<tr><th scope=row>140</th><td>M</td><td>84</td><td>3</td></tr>\n",
       "\t<tr><th scope=row>141</th><td>M</td><td>85</td><td>1</td></tr>\n",
       "\t<tr><th scope=row>142</th><td>M</td><td>87</td><td>1</td></tr>\n",
       "\t<tr><th scope=row>143</th><td>M</td><td>88</td><td>1</td></tr>\n",
       "</tbody>\n",
       "</table>\n"
      ],
      "text/latex": [
       "A data.frame: 6 × 3\n",
       "\\begin{tabular}{r|lll}\n",
       "  & gender & age & n\\\\\n",
       "  & <chr> & <dbl> & <int>\\\\\n",
       "\\hline\n",
       "\t138 & M & 82 & 1\\\\\n",
       "\t139 & M & 83 & 1\\\\\n",
       "\t140 & M & 84 & 3\\\\\n",
       "\t141 & M & 85 & 1\\\\\n",
       "\t142 & M & 87 & 1\\\\\n",
       "\t143 & M & 88 & 1\\\\\n",
       "\\end{tabular}\n"
      ],
      "text/markdown": [
       "\n",
       "A data.frame: 6 × 3\n",
       "\n",
       "| <!--/--> | gender &lt;chr&gt; | age &lt;dbl&gt; | n &lt;int&gt; |\n",
       "|---|---|---|---|\n",
       "| 138 | M | 82 | 1 |\n",
       "| 139 | M | 83 | 1 |\n",
       "| 140 | M | 84 | 3 |\n",
       "| 141 | M | 85 | 1 |\n",
       "| 142 | M | 87 | 1 |\n",
       "| 143 | M | 88 | 1 |\n",
       "\n"
      ],
      "text/plain": [
       "    gender age n\n",
       "138 M      82  1\n",
       "139 M      83  1\n",
       "140 M      84  3\n",
       "141 M      85  1\n",
       "142 M      87  1\n",
       "143 M      88  1"
      ]
     },
     "metadata": {},
     "output_type": "display_data"
    }
   ],
   "source": [
    "tail(group_gender_age)"
   ]
  },
  {
   "cell_type": "code",
   "execution_count": 37,
   "id": "1055503c",
   "metadata": {},
   "outputs": [],
   "source": [
    "data3 = data %>% sample_n(10)"
   ]
  },
  {
   "cell_type": "code",
   "execution_count": 38,
   "id": "e8fff809",
   "metadata": {},
   "outputs": [
    {
     "data": {
      "text/html": [
       "<table class=\"dataframe\">\n",
       "<caption>A data.frame: 10 × 11</caption>\n",
       "<thead>\n",
       "\t<tr><th scope=col>id</th><th scope=col>gender</th><th scope=col>height</th><th scope=col>weight</th><th scope=col>bmi</th><th scope=col>age</th><th scope=col>bmc</th><th scope=col>bmd</th><th scope=col>fat</th><th scope=col>lean</th><th scope=col>pcfat</th></tr>\n",
       "\t<tr><th scope=col>&lt;dbl&gt;</th><th scope=col>&lt;chr&gt;</th><th scope=col>&lt;dbl&gt;</th><th scope=col>&lt;dbl&gt;</th><th scope=col>&lt;dbl&gt;</th><th scope=col>&lt;dbl&gt;</th><th scope=col>&lt;dbl&gt;</th><th scope=col>&lt;dbl&gt;</th><th scope=col>&lt;dbl&gt;</th><th scope=col>&lt;dbl&gt;</th><th scope=col>&lt;dbl&gt;</th></tr>\n",
       "</thead>\n",
       "<tbody>\n",
       "\t<tr><td> 451</td><td>M</td><td>173</td><td>66</td><td>22.1</td><td>24</td><td>2274</td><td>1.14</td><td>16114</td><td>47088</td><td>24.6</td></tr>\n",
       "\t<tr><td>  65</td><td>F</td><td>150</td><td>60</td><td>26.7</td><td>79</td><td>1487</td><td>0.89</td><td>22229</td><td>35464</td><td>37.6</td></tr>\n",
       "\t<tr><td> 515</td><td>F</td><td>150</td><td>45</td><td>20.0</td><td>31</td><td>1798</td><td>1.15</td><td>14207</td><td>28587</td><td>31.9</td></tr>\n",
       "\t<tr><td> 133</td><td>F</td><td>150</td><td>44</td><td>19.6</td><td>42</td><td>1379</td><td>0.92</td><td>13838</td><td>28338</td><td>31.8</td></tr>\n",
       "\t<tr><td> 554</td><td>F</td><td>147</td><td>60</td><td>27.8</td><td>70</td><td>1308</td><td>0.97</td><td>17632</td><td>25692</td><td>39.5</td></tr>\n",
       "\t<tr><td>1186</td><td>F</td><td>159</td><td>56</td><td>22.2</td><td>56</td><td>2205</td><td>1.17</td><td>19849</td><td>33942</td><td>35.4</td></tr>\n",
       "\t<tr><td> 672</td><td>F</td><td>157</td><td>50</td><td>20.3</td><td>46</td><td>2043</td><td>1.15</td><td>15529</td><td>32283</td><td>31.1</td></tr>\n",
       "\t<tr><td> 429</td><td>M</td><td>165</td><td>68</td><td>25.0</td><td>81</td><td>1831</td><td>1.07</td><td>20185</td><td>45621</td><td>29.8</td></tr>\n",
       "\t<tr><td>1203</td><td>F</td><td>152</td><td>40</td><td>17.3</td><td>85</td><td> 819</td><td>0.74</td><td>10903</td><td>25230</td><td>29.5</td></tr>\n",
       "\t<tr><td> 895</td><td>M</td><td>164</td><td>64</td><td>23.8</td><td>21</td><td>2007</td><td>1.03</td><td>13466</td><td>46835</td><td>21.6</td></tr>\n",
       "</tbody>\n",
       "</table>\n"
      ],
      "text/latex": [
       "A data.frame: 10 × 11\n",
       "\\begin{tabular}{lllllllllll}\n",
       " id & gender & height & weight & bmi & age & bmc & bmd & fat & lean & pcfat\\\\\n",
       " <dbl> & <chr> & <dbl> & <dbl> & <dbl> & <dbl> & <dbl> & <dbl> & <dbl> & <dbl> & <dbl>\\\\\n",
       "\\hline\n",
       "\t  451 & M & 173 & 66 & 22.1 & 24 & 2274 & 1.14 & 16114 & 47088 & 24.6\\\\\n",
       "\t   65 & F & 150 & 60 & 26.7 & 79 & 1487 & 0.89 & 22229 & 35464 & 37.6\\\\\n",
       "\t  515 & F & 150 & 45 & 20.0 & 31 & 1798 & 1.15 & 14207 & 28587 & 31.9\\\\\n",
       "\t  133 & F & 150 & 44 & 19.6 & 42 & 1379 & 0.92 & 13838 & 28338 & 31.8\\\\\n",
       "\t  554 & F & 147 & 60 & 27.8 & 70 & 1308 & 0.97 & 17632 & 25692 & 39.5\\\\\n",
       "\t 1186 & F & 159 & 56 & 22.2 & 56 & 2205 & 1.17 & 19849 & 33942 & 35.4\\\\\n",
       "\t  672 & F & 157 & 50 & 20.3 & 46 & 2043 & 1.15 & 15529 & 32283 & 31.1\\\\\n",
       "\t  429 & M & 165 & 68 & 25.0 & 81 & 1831 & 1.07 & 20185 & 45621 & 29.8\\\\\n",
       "\t 1203 & F & 152 & 40 & 17.3 & 85 &  819 & 0.74 & 10903 & 25230 & 29.5\\\\\n",
       "\t  895 & M & 164 & 64 & 23.8 & 21 & 2007 & 1.03 & 13466 & 46835 & 21.6\\\\\n",
       "\\end{tabular}\n"
      ],
      "text/markdown": [
       "\n",
       "A data.frame: 10 × 11\n",
       "\n",
       "| id &lt;dbl&gt; | gender &lt;chr&gt; | height &lt;dbl&gt; | weight &lt;dbl&gt; | bmi &lt;dbl&gt; | age &lt;dbl&gt; | bmc &lt;dbl&gt; | bmd &lt;dbl&gt; | fat &lt;dbl&gt; | lean &lt;dbl&gt; | pcfat &lt;dbl&gt; |\n",
       "|---|---|---|---|---|---|---|---|---|---|---|\n",
       "|  451 | M | 173 | 66 | 22.1 | 24 | 2274 | 1.14 | 16114 | 47088 | 24.6 |\n",
       "|   65 | F | 150 | 60 | 26.7 | 79 | 1487 | 0.89 | 22229 | 35464 | 37.6 |\n",
       "|  515 | F | 150 | 45 | 20.0 | 31 | 1798 | 1.15 | 14207 | 28587 | 31.9 |\n",
       "|  133 | F | 150 | 44 | 19.6 | 42 | 1379 | 0.92 | 13838 | 28338 | 31.8 |\n",
       "|  554 | F | 147 | 60 | 27.8 | 70 | 1308 | 0.97 | 17632 | 25692 | 39.5 |\n",
       "| 1186 | F | 159 | 56 | 22.2 | 56 | 2205 | 1.17 | 19849 | 33942 | 35.4 |\n",
       "|  672 | F | 157 | 50 | 20.3 | 46 | 2043 | 1.15 | 15529 | 32283 | 31.1 |\n",
       "|  429 | M | 165 | 68 | 25.0 | 81 | 1831 | 1.07 | 20185 | 45621 | 29.8 |\n",
       "| 1203 | F | 152 | 40 | 17.3 | 85 |  819 | 0.74 | 10903 | 25230 | 29.5 |\n",
       "|  895 | M | 164 | 64 | 23.8 | 21 | 2007 | 1.03 | 13466 | 46835 | 21.6 |\n",
       "\n"
      ],
      "text/plain": [
       "   id   gender height weight bmi  age bmc  bmd  fat   lean  pcfat\n",
       "1   451 M      173    66     22.1 24  2274 1.14 16114 47088 24.6 \n",
       "2    65 F      150    60     26.7 79  1487 0.89 22229 35464 37.6 \n",
       "3   515 F      150    45     20.0 31  1798 1.15 14207 28587 31.9 \n",
       "4   133 F      150    44     19.6 42  1379 0.92 13838 28338 31.8 \n",
       "5   554 F      147    60     27.8 70  1308 0.97 17632 25692 39.5 \n",
       "6  1186 F      159    56     22.2 56  2205 1.17 19849 33942 35.4 \n",
       "7   672 F      157    50     20.3 46  2043 1.15 15529 32283 31.1 \n",
       "8   429 M      165    68     25.0 81  1831 1.07 20185 45621 29.8 \n",
       "9  1203 F      152    40     17.3 85   819 0.74 10903 25230 29.5 \n",
       "10  895 M      164    64     23.8 21  2007 1.03 13466 46835 21.6 "
      ]
     },
     "metadata": {},
     "output_type": "display_data"
    }
   ],
   "source": [
    "data3"
   ]
  },
  {
   "cell_type": "code",
   "execution_count": 36,
   "id": "15b9cc20",
   "metadata": {},
   "outputs": [
    {
     "data": {
      "text/html": [
       "<table class=\"dataframe\">\n",
       "<caption>A data.frame: 12 × 11</caption>\n",
       "<thead>\n",
       "\t<tr><th scope=col>id</th><th scope=col>gender</th><th scope=col>height</th><th scope=col>weight</th><th scope=col>bmi</th><th scope=col>age</th><th scope=col>bmc</th><th scope=col>bmd</th><th scope=col>fat</th><th scope=col>lean</th><th scope=col>pcfat</th></tr>\n",
       "\t<tr><th scope=col>&lt;dbl&gt;</th><th scope=col>&lt;chr&gt;</th><th scope=col>&lt;dbl&gt;</th><th scope=col>&lt;dbl&gt;</th><th scope=col>&lt;dbl&gt;</th><th scope=col>&lt;dbl&gt;</th><th scope=col>&lt;dbl&gt;</th><th scope=col>&lt;dbl&gt;</th><th scope=col>&lt;dbl&gt;</th><th scope=col>&lt;dbl&gt;</th><th scope=col>&lt;dbl&gt;</th></tr>\n",
       "</thead>\n",
       "<tbody>\n",
       "\t<tr><td>  52</td><td>F</td><td>158</td><td>56</td><td>22.4</td><td>52</td><td>1554</td><td>0.96</td><td>17414</td><td>35947</td><td>31.7</td></tr>\n",
       "\t<tr><td>1214</td><td>F</td><td>154</td><td>54</td><td>22.8</td><td>22</td><td>1757</td><td>1.02</td><td>17759</td><td>33016</td><td>33.8</td></tr>\n",
       "\t<tr><td>  68</td><td>F</td><td>152</td><td>63</td><td>27.3</td><td>24</td><td>1616</td><td>0.99</td><td>28520</td><td>33418</td><td>44.9</td></tr>\n",
       "\t<tr><td>1113</td><td>F</td><td>153</td><td>58</td><td>24.8</td><td>47</td><td>1978</td><td>1.19</td><td>18102</td><td>35925</td><td>32.3</td></tr>\n",
       "\t<tr><td> 457</td><td>F</td><td>159</td><td>49</td><td>19.4</td><td>38</td><td>1888</td><td>1.08</td><td>11183</td><td>34705</td><td>23.4</td></tr>\n",
       "\t<tr><td>1024</td><td>F</td><td>165</td><td>62</td><td>22.8</td><td>18</td><td>1848</td><td>0.98</td><td>20296</td><td>38610</td><td>33.4</td></tr>\n",
       "\t<tr><td> 371</td><td>F</td><td>153</td><td>45</td><td>19.2</td><td>42</td><td>1381</td><td>0.94</td><td>15447</td><td>27820</td><td>34.6</td></tr>\n",
       "\t<tr><td>1124</td><td>M</td><td>156</td><td>55</td><td>22.6</td><td>62</td><td>1571</td><td>1.02</td><td>13593</td><td>35380</td><td>26.9</td></tr>\n",
       "\t<tr><td> 451</td><td>M</td><td>173</td><td>66</td><td>22.1</td><td>24</td><td>2274</td><td>1.14</td><td>16114</td><td>47088</td><td>24.6</td></tr>\n",
       "\t<tr><td> 717</td><td>M</td><td>165</td><td>60</td><td>22.0</td><td>34</td><td>2018</td><td>1.05</td><td>11604</td><td>43594</td><td>20.3</td></tr>\n",
       "\t<tr><td> 636</td><td>F</td><td>159</td><td>68</td><td>26.9</td><td>47</td><td>1956</td><td>1.05</td><td>26846</td><td>39237</td><td>39.5</td></tr>\n",
       "\t<tr><td> 490</td><td>F</td><td>155</td><td>50</td><td>20.8</td><td>21</td><td>1657</td><td>1.02</td><td>14601</td><td>29752</td><td>31.7</td></tr>\n",
       "</tbody>\n",
       "</table>\n"
      ],
      "text/latex": [
       "A data.frame: 12 × 11\n",
       "\\begin{tabular}{lllllllllll}\n",
       " id & gender & height & weight & bmi & age & bmc & bmd & fat & lean & pcfat\\\\\n",
       " <dbl> & <chr> & <dbl> & <dbl> & <dbl> & <dbl> & <dbl> & <dbl> & <dbl> & <dbl> & <dbl>\\\\\n",
       "\\hline\n",
       "\t   52 & F & 158 & 56 & 22.4 & 52 & 1554 & 0.96 & 17414 & 35947 & 31.7\\\\\n",
       "\t 1214 & F & 154 & 54 & 22.8 & 22 & 1757 & 1.02 & 17759 & 33016 & 33.8\\\\\n",
       "\t   68 & F & 152 & 63 & 27.3 & 24 & 1616 & 0.99 & 28520 & 33418 & 44.9\\\\\n",
       "\t 1113 & F & 153 & 58 & 24.8 & 47 & 1978 & 1.19 & 18102 & 35925 & 32.3\\\\\n",
       "\t  457 & F & 159 & 49 & 19.4 & 38 & 1888 & 1.08 & 11183 & 34705 & 23.4\\\\\n",
       "\t 1024 & F & 165 & 62 & 22.8 & 18 & 1848 & 0.98 & 20296 & 38610 & 33.4\\\\\n",
       "\t  371 & F & 153 & 45 & 19.2 & 42 & 1381 & 0.94 & 15447 & 27820 & 34.6\\\\\n",
       "\t 1124 & M & 156 & 55 & 22.6 & 62 & 1571 & 1.02 & 13593 & 35380 & 26.9\\\\\n",
       "\t  451 & M & 173 & 66 & 22.1 & 24 & 2274 & 1.14 & 16114 & 47088 & 24.6\\\\\n",
       "\t  717 & M & 165 & 60 & 22.0 & 34 & 2018 & 1.05 & 11604 & 43594 & 20.3\\\\\n",
       "\t  636 & F & 159 & 68 & 26.9 & 47 & 1956 & 1.05 & 26846 & 39237 & 39.5\\\\\n",
       "\t  490 & F & 155 & 50 & 20.8 & 21 & 1657 & 1.02 & 14601 & 29752 & 31.7\\\\\n",
       "\\end{tabular}\n"
      ],
      "text/markdown": [
       "\n",
       "A data.frame: 12 × 11\n",
       "\n",
       "| id &lt;dbl&gt; | gender &lt;chr&gt; | height &lt;dbl&gt; | weight &lt;dbl&gt; | bmi &lt;dbl&gt; | age &lt;dbl&gt; | bmc &lt;dbl&gt; | bmd &lt;dbl&gt; | fat &lt;dbl&gt; | lean &lt;dbl&gt; | pcfat &lt;dbl&gt; |\n",
       "|---|---|---|---|---|---|---|---|---|---|---|\n",
       "|   52 | F | 158 | 56 | 22.4 | 52 | 1554 | 0.96 | 17414 | 35947 | 31.7 |\n",
       "| 1214 | F | 154 | 54 | 22.8 | 22 | 1757 | 1.02 | 17759 | 33016 | 33.8 |\n",
       "|   68 | F | 152 | 63 | 27.3 | 24 | 1616 | 0.99 | 28520 | 33418 | 44.9 |\n",
       "| 1113 | F | 153 | 58 | 24.8 | 47 | 1978 | 1.19 | 18102 | 35925 | 32.3 |\n",
       "|  457 | F | 159 | 49 | 19.4 | 38 | 1888 | 1.08 | 11183 | 34705 | 23.4 |\n",
       "| 1024 | F | 165 | 62 | 22.8 | 18 | 1848 | 0.98 | 20296 | 38610 | 33.4 |\n",
       "|  371 | F | 153 | 45 | 19.2 | 42 | 1381 | 0.94 | 15447 | 27820 | 34.6 |\n",
       "| 1124 | M | 156 | 55 | 22.6 | 62 | 1571 | 1.02 | 13593 | 35380 | 26.9 |\n",
       "|  451 | M | 173 | 66 | 22.1 | 24 | 2274 | 1.14 | 16114 | 47088 | 24.6 |\n",
       "|  717 | M | 165 | 60 | 22.0 | 34 | 2018 | 1.05 | 11604 | 43594 | 20.3 |\n",
       "|  636 | F | 159 | 68 | 26.9 | 47 | 1956 | 1.05 | 26846 | 39237 | 39.5 |\n",
       "|  490 | F | 155 | 50 | 20.8 | 21 | 1657 | 1.02 | 14601 | 29752 | 31.7 |\n",
       "\n"
      ],
      "text/plain": [
       "   id   gender height weight bmi  age bmc  bmd  fat   lean  pcfat\n",
       "1    52 F      158    56     22.4 52  1554 0.96 17414 35947 31.7 \n",
       "2  1214 F      154    54     22.8 22  1757 1.02 17759 33016 33.8 \n",
       "3    68 F      152    63     27.3 24  1616 0.99 28520 33418 44.9 \n",
       "4  1113 F      153    58     24.8 47  1978 1.19 18102 35925 32.3 \n",
       "5   457 F      159    49     19.4 38  1888 1.08 11183 34705 23.4 \n",
       "6  1024 F      165    62     22.8 18  1848 0.98 20296 38610 33.4 \n",
       "7   371 F      153    45     19.2 42  1381 0.94 15447 27820 34.6 \n",
       "8  1124 M      156    55     22.6 62  1571 1.02 13593 35380 26.9 \n",
       "9   451 M      173    66     22.1 24  2274 1.14 16114 47088 24.6 \n",
       "10  717 M      165    60     22.0 34  2018 1.05 11604 43594 20.3 \n",
       "11  636 F      159    68     26.9 47  1956 1.05 26846 39237 39.5 \n",
       "12  490 F      155    50     20.8 21  1657 1.02 14601 29752 31.7 "
      ]
     },
     "metadata": {},
     "output_type": "display_data"
    }
   ],
   "source": [
    "data4 = sample_frac(data, 0.01)\n",
    "data4"
   ]
  },
  {
   "cell_type": "code",
   "execution_count": null,
   "id": "5ba705e1",
   "metadata": {},
   "outputs": [],
   "source": []
  }
 ],
 "metadata": {
  "kernelspec": {
   "display_name": "R",
   "language": "R",
   "name": "ir"
  },
  "language_info": {
   "codemirror_mode": "r",
   "file_extension": ".r",
   "mimetype": "text/x-r-source",
   "name": "R",
   "pygments_lexer": "r",
   "version": "4.1.0"
  }
 },
 "nbformat": 4,
 "nbformat_minor": 5
}
