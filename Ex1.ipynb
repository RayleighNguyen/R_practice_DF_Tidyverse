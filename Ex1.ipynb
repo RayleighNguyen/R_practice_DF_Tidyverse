{
 "cells": [
  {
   "cell_type": "code",
   "execution_count": 2,
   "id": "28d37749",
   "metadata": {},
   "outputs": [],
   "source": [
    "name = c('Alex', 'Lilly', 'Mark', 'Oliver', 'Martha', 'Lucas', 'Caroline')\n",
    "Age = c(25, 31, 23, 52, 76, 49, 26)\n",
    "Height = c(177, 163, 190, 179, 163, 183, 164)\n",
    "Weight = c(57, 69, 83, 75, 70, 83, 53)\n",
    "Sex = factor(c('F', 'F', 'M', 'M', 'F', 'M', 'F'))\n",
    "             "
   ]
  },
  {
   "cell_type": "code",
   "execution_count": 3,
   "id": "ea61dce6",
   "metadata": {},
   "outputs": [
    {
     "data": {
      "text/html": [
       "<table class=\"dataframe\">\n",
       "<caption>A data.frame: 7 × 4</caption>\n",
       "<thead>\n",
       "\t<tr><th></th><th scope=col>Age</th><th scope=col>Height</th><th scope=col>Weight</th><th scope=col>Sex</th></tr>\n",
       "\t<tr><th></th><th scope=col>&lt;dbl&gt;</th><th scope=col>&lt;dbl&gt;</th><th scope=col>&lt;dbl&gt;</th><th scope=col>&lt;fct&gt;</th></tr>\n",
       "</thead>\n",
       "<tbody>\n",
       "\t<tr><th scope=row>Alex</th><td>25</td><td>177</td><td>57</td><td>F</td></tr>\n",
       "\t<tr><th scope=row>Lilly</th><td>31</td><td>163</td><td>69</td><td>F</td></tr>\n",
       "\t<tr><th scope=row>Mark</th><td>23</td><td>190</td><td>83</td><td>M</td></tr>\n",
       "\t<tr><th scope=row>Oliver</th><td>52</td><td>179</td><td>75</td><td>M</td></tr>\n",
       "\t<tr><th scope=row>Martha</th><td>76</td><td>163</td><td>70</td><td>F</td></tr>\n",
       "\t<tr><th scope=row>Lucas</th><td>49</td><td>183</td><td>83</td><td>M</td></tr>\n",
       "\t<tr><th scope=row>Caroline</th><td>26</td><td>164</td><td>53</td><td>F</td></tr>\n",
       "</tbody>\n",
       "</table>\n"
      ],
      "text/latex": [
       "A data.frame: 7 × 4\n",
       "\\begin{tabular}{r|llll}\n",
       "  & Age & Height & Weight & Sex\\\\\n",
       "  & <dbl> & <dbl> & <dbl> & <fct>\\\\\n",
       "\\hline\n",
       "\tAlex & 25 & 177 & 57 & F\\\\\n",
       "\tLilly & 31 & 163 & 69 & F\\\\\n",
       "\tMark & 23 & 190 & 83 & M\\\\\n",
       "\tOliver & 52 & 179 & 75 & M\\\\\n",
       "\tMartha & 76 & 163 & 70 & F\\\\\n",
       "\tLucas & 49 & 183 & 83 & M\\\\\n",
       "\tCaroline & 26 & 164 & 53 & F\\\\\n",
       "\\end{tabular}\n"
      ],
      "text/markdown": [
       "\n",
       "A data.frame: 7 × 4\n",
       "\n",
       "| <!--/--> | Age &lt;dbl&gt; | Height &lt;dbl&gt; | Weight &lt;dbl&gt; | Sex &lt;fct&gt; |\n",
       "|---|---|---|---|---|\n",
       "| Alex | 25 | 177 | 57 | F |\n",
       "| Lilly | 31 | 163 | 69 | F |\n",
       "| Mark | 23 | 190 | 83 | M |\n",
       "| Oliver | 52 | 179 | 75 | M |\n",
       "| Martha | 76 | 163 | 70 | F |\n",
       "| Lucas | 49 | 183 | 83 | M |\n",
       "| Caroline | 26 | 164 | 53 | F |\n",
       "\n"
      ],
      "text/plain": [
       "         Age Height Weight Sex\n",
       "Alex     25  177    57     F  \n",
       "Lilly    31  163    69     F  \n",
       "Mark     23  190    83     M  \n",
       "Oliver   52  179    75     M  \n",
       "Martha   76  163    70     F  \n",
       "Lucas    49  183    83     M  \n",
       "Caroline 26  164    53     F  "
      ]
     },
     "metadata": {},
     "output_type": "display_data"
    }
   ],
   "source": [
    "df = data.frame(row.names = name, Age, Height, Weight, Sex)\n",
    "df"
   ]
  },
  {
   "cell_type": "code",
   "execution_count": 5,
   "id": "a12e845b",
   "metadata": {},
   "outputs": [
    {
     "name": "stdout",
     "output_type": "stream",
     "text": [
      "[1] \"F\" \"M\"\n"
     ]
    }
   ],
   "source": [
    "print(levels(df$Sex))"
   ]
  },
  {
   "cell_type": "code",
   "execution_count": 6,
   "id": "1283edb9",
   "metadata": {},
   "outputs": [
    {
     "data": {
      "text/html": [
       "<table class=\"dataframe\">\n",
       "<caption>A data.frame: 7 × 1</caption>\n",
       "<thead>\n",
       "\t<tr><th></th><th scope=col>working</th></tr>\n",
       "\t<tr><th></th><th scope=col>&lt;fct&gt;</th></tr>\n",
       "</thead>\n",
       "<tbody>\n",
       "\t<tr><th scope=row>Alex</th><td>Yes</td></tr>\n",
       "\t<tr><th scope=row>Lilly</th><td>No </td></tr>\n",
       "\t<tr><th scope=row>Mark</th><td>No </td></tr>\n",
       "\t<tr><th scope=row>Oliver</th><td>Yes</td></tr>\n",
       "\t<tr><th scope=row>Martha</th><td>Yes</td></tr>\n",
       "\t<tr><th scope=row>Lucas</th><td>No </td></tr>\n",
       "\t<tr><th scope=row>Caroline</th><td>Yes</td></tr>\n",
       "</tbody>\n",
       "</table>\n"
      ],
      "text/latex": [
       "A data.frame: 7 × 1\n",
       "\\begin{tabular}{r|l}\n",
       "  & working\\\\\n",
       "  & <fct>\\\\\n",
       "\\hline\n",
       "\tAlex & Yes\\\\\n",
       "\tLilly & No \\\\\n",
       "\tMark & No \\\\\n",
       "\tOliver & Yes\\\\\n",
       "\tMartha & Yes\\\\\n",
       "\tLucas & No \\\\\n",
       "\tCaroline & Yes\\\\\n",
       "\\end{tabular}\n"
      ],
      "text/markdown": [
       "\n",
       "A data.frame: 7 × 1\n",
       "\n",
       "| <!--/--> | working &lt;fct&gt; |\n",
       "|---|---|\n",
       "| Alex | Yes |\n",
       "| Lilly | No  |\n",
       "| Mark | No  |\n",
       "| Oliver | Yes |\n",
       "| Martha | Yes |\n",
       "| Lucas | No  |\n",
       "| Caroline | Yes |\n",
       "\n"
      ],
      "text/plain": [
       "         working\n",
       "Alex     Yes    \n",
       "Lilly    No     \n",
       "Mark     No     \n",
       "Oliver   Yes    \n",
       "Martha   Yes    \n",
       "Lucas    No     \n",
       "Caroline Yes    "
      ]
     },
     "metadata": {},
     "output_type": "display_data"
    }
   ],
   "source": [
    "working = factor(c('Yes', 'No','No','Yes','Yes','No','Yes'))\n",
    "df2 = data.frame(row.names = name, working)\n",
    "df2"
   ]
  },
  {
   "cell_type": "code",
   "execution_count": 7,
   "id": "7c6a1e42",
   "metadata": {},
   "outputs": [
    {
     "data": {
      "text/html": [
       "<table class=\"dataframe\">\n",
       "<caption>A data.frame: 7 × 5</caption>\n",
       "<thead>\n",
       "\t<tr><th></th><th scope=col>Age</th><th scope=col>Height</th><th scope=col>Weight</th><th scope=col>Sex</th><th scope=col>working</th></tr>\n",
       "\t<tr><th></th><th scope=col>&lt;dbl&gt;</th><th scope=col>&lt;dbl&gt;</th><th scope=col>&lt;dbl&gt;</th><th scope=col>&lt;fct&gt;</th><th scope=col>&lt;fct&gt;</th></tr>\n",
       "</thead>\n",
       "<tbody>\n",
       "\t<tr><th scope=row>Alex</th><td>25</td><td>177</td><td>57</td><td>F</td><td>Yes</td></tr>\n",
       "\t<tr><th scope=row>Lilly</th><td>31</td><td>163</td><td>69</td><td>F</td><td>No </td></tr>\n",
       "\t<tr><th scope=row>Mark</th><td>23</td><td>190</td><td>83</td><td>M</td><td>No </td></tr>\n",
       "\t<tr><th scope=row>Oliver</th><td>52</td><td>179</td><td>75</td><td>M</td><td>Yes</td></tr>\n",
       "\t<tr><th scope=row>Martha</th><td>76</td><td>163</td><td>70</td><td>F</td><td>Yes</td></tr>\n",
       "\t<tr><th scope=row>Lucas</th><td>49</td><td>183</td><td>83</td><td>M</td><td>No </td></tr>\n",
       "\t<tr><th scope=row>Caroline</th><td>26</td><td>164</td><td>53</td><td>F</td><td>Yes</td></tr>\n",
       "</tbody>\n",
       "</table>\n"
      ],
      "text/latex": [
       "A data.frame: 7 × 5\n",
       "\\begin{tabular}{r|lllll}\n",
       "  & Age & Height & Weight & Sex & working\\\\\n",
       "  & <dbl> & <dbl> & <dbl> & <fct> & <fct>\\\\\n",
       "\\hline\n",
       "\tAlex & 25 & 177 & 57 & F & Yes\\\\\n",
       "\tLilly & 31 & 163 & 69 & F & No \\\\\n",
       "\tMark & 23 & 190 & 83 & M & No \\\\\n",
       "\tOliver & 52 & 179 & 75 & M & Yes\\\\\n",
       "\tMartha & 76 & 163 & 70 & F & Yes\\\\\n",
       "\tLucas & 49 & 183 & 83 & M & No \\\\\n",
       "\tCaroline & 26 & 164 & 53 & F & Yes\\\\\n",
       "\\end{tabular}\n"
      ],
      "text/markdown": [
       "\n",
       "A data.frame: 7 × 5\n",
       "\n",
       "| <!--/--> | Age &lt;dbl&gt; | Height &lt;dbl&gt; | Weight &lt;dbl&gt; | Sex &lt;fct&gt; | working &lt;fct&gt; |\n",
       "|---|---|---|---|---|---|\n",
       "| Alex | 25 | 177 | 57 | F | Yes |\n",
       "| Lilly | 31 | 163 | 69 | F | No  |\n",
       "| Mark | 23 | 190 | 83 | M | No  |\n",
       "| Oliver | 52 | 179 | 75 | M | Yes |\n",
       "| Martha | 76 | 163 | 70 | F | Yes |\n",
       "| Lucas | 49 | 183 | 83 | M | No  |\n",
       "| Caroline | 26 | 164 | 53 | F | Yes |\n",
       "\n"
      ],
      "text/plain": [
       "         Age Height Weight Sex working\n",
       "Alex     25  177    57     F   Yes    \n",
       "Lilly    31  163    69     F   No     \n",
       "Mark     23  190    83     M   No     \n",
       "Oliver   52  179    75     M   Yes    \n",
       "Martha   76  163    70     F   Yes    \n",
       "Lucas    49  183    83     M   No     \n",
       "Caroline 26  164    53     F   Yes    "
      ]
     },
     "metadata": {},
     "output_type": "display_data"
    }
   ],
   "source": [
    "df_new = cbind(df, df2)\n",
    "df_new"
   ]
  },
  {
   "cell_type": "code",
   "execution_count": 8,
   "id": "a279f587",
   "metadata": {},
   "outputs": [
    {
     "data": {
      "text/html": [
       "<style>\n",
       ".list-inline {list-style: none; margin:0; padding: 0}\n",
       ".list-inline>li {display: inline-block}\n",
       ".list-inline>li:not(:last-child)::after {content: \"\\00b7\"; padding: 0 .5ex}\n",
       "</style>\n",
       "<ol class=list-inline><li>7</li><li>5</li></ol>\n"
      ],
      "text/latex": [
       "\\begin{enumerate*}\n",
       "\\item 7\n",
       "\\item 5\n",
       "\\end{enumerate*}\n"
      ],
      "text/markdown": [
       "1. 7\n",
       "2. 5\n",
       "\n",
       "\n"
      ],
      "text/plain": [
       "[1] 7 5"
      ]
     },
     "metadata": {},
     "output_type": "display_data"
    }
   ],
   "source": [
    "dim(df_new)"
   ]
  },
  {
   "cell_type": "code",
   "execution_count": 9,
   "id": "2d9054bd",
   "metadata": {},
   "outputs": [
    {
     "name": "stdout",
     "output_type": "stream",
     "text": [
      "'data.frame':\t7 obs. of  5 variables:\n",
      " $ Age    : num  25 31 23 52 76 49 26\n",
      " $ Height : num  177 163 190 179 163 183 164\n",
      " $ Weight : num  57 69 83 75 70 83 53\n",
      " $ Sex    : Factor w/ 2 levels \"F\",\"M\": 1 1 2 2 1 2 1\n",
      " $ working: Factor w/ 2 levels \"No\",\"Yes\": 2 1 1 2 2 1 2\n"
     ]
    }
   ],
   "source": [
    "str(df_new)"
   ]
  },
  {
   "cell_type": "code",
   "execution_count": null,
   "id": "d6dd195b",
   "metadata": {},
   "outputs": [],
   "source": []
  }
 ],
 "metadata": {
  "kernelspec": {
   "display_name": "R",
   "language": "R",
   "name": "ir"
  },
  "language_info": {
   "codemirror_mode": "r",
   "file_extension": ".r",
   "mimetype": "text/x-r-source",
   "name": "R",
   "pygments_lexer": "r",
   "version": "4.1.0"
  }
 },
 "nbformat": 4,
 "nbformat_minor": 5
}
