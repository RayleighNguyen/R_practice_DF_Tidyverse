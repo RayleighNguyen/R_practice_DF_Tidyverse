{
 "cells": [
  {
   "cell_type": "code",
   "execution_count": 7,
   "id": "36c0990c",
   "metadata": {},
   "outputs": [],
   "source": [
    "data = state.x77"
   ]
  },
  {
   "cell_type": "code",
   "execution_count": 8,
   "id": "b8dc229d",
   "metadata": {},
   "outputs": [
    {
     "name": "stdout",
     "output_type": "stream",
     "text": [
      "               Population Income Illiteracy Life Exp Murder HS Grad Frost\n",
      "Alabama              3615   3624        2.1    69.05   15.1    41.3    20\n",
      "Alaska                365   6315        1.5    69.31   11.3    66.7   152\n",
      "Arizona              2212   4530        1.8    70.55    7.8    58.1    15\n",
      "Arkansas             2110   3378        1.9    70.66   10.1    39.9    65\n",
      "California          21198   5114        1.1    71.71   10.3    62.6    20\n",
      "Colorado             2541   4884        0.7    72.06    6.8    63.9   166\n",
      "Connecticut          3100   5348        1.1    72.48    3.1    56.0   139\n",
      "Delaware              579   4809        0.9    70.06    6.2    54.6   103\n",
      "Florida              8277   4815        1.3    70.66   10.7    52.6    11\n",
      "Georgia              4931   4091        2.0    68.54   13.9    40.6    60\n",
      "Hawaii                868   4963        1.9    73.60    6.2    61.9     0\n",
      "Idaho                 813   4119        0.6    71.87    5.3    59.5   126\n",
      "Illinois            11197   5107        0.9    70.14   10.3    52.6   127\n",
      "Indiana              5313   4458        0.7    70.88    7.1    52.9   122\n",
      "Iowa                 2861   4628        0.5    72.56    2.3    59.0   140\n",
      "Kansas               2280   4669        0.6    72.58    4.5    59.9   114\n",
      "Kentucky             3387   3712        1.6    70.10   10.6    38.5    95\n",
      "Louisiana            3806   3545        2.8    68.76   13.2    42.2    12\n",
      "Maine                1058   3694        0.7    70.39    2.7    54.7   161\n",
      "Maryland             4122   5299        0.9    70.22    8.5    52.3   101\n",
      "Massachusetts        5814   4755        1.1    71.83    3.3    58.5   103\n",
      "Michigan             9111   4751        0.9    70.63   11.1    52.8   125\n",
      "Minnesota            3921   4675        0.6    72.96    2.3    57.6   160\n",
      "Mississippi          2341   3098        2.4    68.09   12.5    41.0    50\n",
      "Missouri             4767   4254        0.8    70.69    9.3    48.8   108\n",
      "Montana               746   4347        0.6    70.56    5.0    59.2   155\n",
      "Nebraska             1544   4508        0.6    72.60    2.9    59.3   139\n",
      "Nevada                590   5149        0.5    69.03   11.5    65.2   188\n",
      "New Hampshire         812   4281        0.7    71.23    3.3    57.6   174\n",
      "New Jersey           7333   5237        1.1    70.93    5.2    52.5   115\n",
      "New Mexico           1144   3601        2.2    70.32    9.7    55.2   120\n",
      "New York            18076   4903        1.4    70.55   10.9    52.7    82\n",
      "North Carolina       5441   3875        1.8    69.21   11.1    38.5    80\n",
      "North Dakota          637   5087        0.8    72.78    1.4    50.3   186\n",
      "Ohio                10735   4561        0.8    70.82    7.4    53.2   124\n",
      "Oklahoma             2715   3983        1.1    71.42    6.4    51.6    82\n",
      "Oregon               2284   4660        0.6    72.13    4.2    60.0    44\n",
      "Pennsylvania        11860   4449        1.0    70.43    6.1    50.2   126\n",
      "Rhode Island          931   4558        1.3    71.90    2.4    46.4   127\n",
      "South Carolina       2816   3635        2.3    67.96   11.6    37.8    65\n",
      "South Dakota          681   4167        0.5    72.08    1.7    53.3   172\n",
      "Tennessee            4173   3821        1.7    70.11   11.0    41.8    70\n",
      "Texas               12237   4188        2.2    70.90   12.2    47.4    35\n",
      "Utah                 1203   4022        0.6    72.90    4.5    67.3   137\n",
      "Vermont               472   3907        0.6    71.64    5.5    57.1   168\n",
      "Virginia             4981   4701        1.4    70.08    9.5    47.8    85\n",
      "Washington           3559   4864        0.6    71.72    4.3    63.5    32\n",
      "West Virginia        1799   3617        1.4    69.48    6.7    41.6   100\n",
      "Wisconsin            4589   4468        0.7    72.48    3.0    54.5   149\n",
      "Wyoming               376   4566        0.6    70.29    6.9    62.9   173\n",
      "                 Area\n",
      "Alabama         50708\n",
      "Alaska         566432\n",
      "Arizona        113417\n",
      "Arkansas        51945\n",
      "California     156361\n",
      "Colorado       103766\n",
      "Connecticut      4862\n",
      "Delaware         1982\n",
      "Florida         54090\n",
      "Georgia         58073\n",
      "Hawaii           6425\n",
      "Idaho           82677\n",
      "Illinois        55748\n",
      "Indiana         36097\n",
      "Iowa            55941\n",
      "Kansas          81787\n",
      "Kentucky        39650\n",
      "Louisiana       44930\n",
      "Maine           30920\n",
      "Maryland         9891\n",
      "Massachusetts    7826\n",
      "Michigan        56817\n",
      "Minnesota       79289\n",
      "Mississippi     47296\n",
      "Missouri        68995\n",
      "Montana        145587\n",
      "Nebraska        76483\n",
      "Nevada         109889\n",
      "New Hampshire    9027\n",
      "New Jersey       7521\n",
      "New Mexico     121412\n",
      "New York        47831\n",
      "North Carolina  48798\n",
      "North Dakota    69273\n",
      "Ohio            40975\n",
      "Oklahoma        68782\n",
      "Oregon          96184\n",
      "Pennsylvania    44966\n",
      "Rhode Island     1049\n",
      "South Carolina  30225\n",
      "South Dakota    75955\n",
      "Tennessee       41328\n",
      "Texas          262134\n",
      "Utah            82096\n",
      "Vermont          9267\n",
      "Virginia        39780\n",
      "Washington      66570\n",
      "West Virginia   24070\n",
      "Wisconsin       54464\n",
      "Wyoming         97203\n"
     ]
    }
   ],
   "source": [
    "print(data)"
   ]
  },
  {
   "cell_type": "code",
   "execution_count": 9,
   "id": "2ac15d2a",
   "metadata": {
    "scrolled": true
   },
   "outputs": [
    {
     "data": {
      "text/html": [
       "<style>\n",
       ".list-inline {list-style: none; margin:0; padding: 0}\n",
       ".list-inline>li {display: inline-block}\n",
       ".list-inline>li:not(:last-child)::after {content: \"\\00b7\"; padding: 0 .5ex}\n",
       "</style>\n",
       "<ol class=list-inline><li>'matrix'</li><li>'array'</li></ol>\n"
      ],
      "text/latex": [
       "\\begin{enumerate*}\n",
       "\\item 'matrix'\n",
       "\\item 'array'\n",
       "\\end{enumerate*}\n"
      ],
      "text/markdown": [
       "1. 'matrix'\n",
       "2. 'array'\n",
       "\n",
       "\n"
      ],
      "text/plain": [
       "[1] \"matrix\" \"array\" "
      ]
     },
     "metadata": {},
     "output_type": "display_data"
    }
   ],
   "source": [
    "class(data)"
   ]
  },
  {
   "cell_type": "code",
   "execution_count": 11,
   "id": "357ef3af",
   "metadata": {},
   "outputs": [
    {
     "data": {
      "text/html": [
       "<table class=\"dataframe\">\n",
       "<caption>A data.frame: 6 × 8</caption>\n",
       "<thead>\n",
       "\t<tr><th></th><th scope=col>Population</th><th scope=col>Income</th><th scope=col>Illiteracy</th><th scope=col>Life.Exp</th><th scope=col>Murder</th><th scope=col>HS.Grad</th><th scope=col>Frost</th><th scope=col>Area</th></tr>\n",
       "\t<tr><th></th><th scope=col>&lt;dbl&gt;</th><th scope=col>&lt;dbl&gt;</th><th scope=col>&lt;dbl&gt;</th><th scope=col>&lt;dbl&gt;</th><th scope=col>&lt;dbl&gt;</th><th scope=col>&lt;dbl&gt;</th><th scope=col>&lt;dbl&gt;</th><th scope=col>&lt;dbl&gt;</th></tr>\n",
       "</thead>\n",
       "<tbody>\n",
       "\t<tr><th scope=row>Alabama</th><td> 3615</td><td>3624</td><td>2.1</td><td>69.05</td><td>15.1</td><td>41.3</td><td> 20</td><td> 50708</td></tr>\n",
       "\t<tr><th scope=row>Alaska</th><td>  365</td><td>6315</td><td>1.5</td><td>69.31</td><td>11.3</td><td>66.7</td><td>152</td><td>566432</td></tr>\n",
       "\t<tr><th scope=row>Arizona</th><td> 2212</td><td>4530</td><td>1.8</td><td>70.55</td><td> 7.8</td><td>58.1</td><td> 15</td><td>113417</td></tr>\n",
       "\t<tr><th scope=row>Arkansas</th><td> 2110</td><td>3378</td><td>1.9</td><td>70.66</td><td>10.1</td><td>39.9</td><td> 65</td><td> 51945</td></tr>\n",
       "\t<tr><th scope=row>California</th><td>21198</td><td>5114</td><td>1.1</td><td>71.71</td><td>10.3</td><td>62.6</td><td> 20</td><td>156361</td></tr>\n",
       "\t<tr><th scope=row>Colorado</th><td> 2541</td><td>4884</td><td>0.7</td><td>72.06</td><td> 6.8</td><td>63.9</td><td>166</td><td>103766</td></tr>\n",
       "</tbody>\n",
       "</table>\n"
      ],
      "text/latex": [
       "A data.frame: 6 × 8\n",
       "\\begin{tabular}{r|llllllll}\n",
       "  & Population & Income & Illiteracy & Life.Exp & Murder & HS.Grad & Frost & Area\\\\\n",
       "  & <dbl> & <dbl> & <dbl> & <dbl> & <dbl> & <dbl> & <dbl> & <dbl>\\\\\n",
       "\\hline\n",
       "\tAlabama &  3615 & 3624 & 2.1 & 69.05 & 15.1 & 41.3 &  20 &  50708\\\\\n",
       "\tAlaska &   365 & 6315 & 1.5 & 69.31 & 11.3 & 66.7 & 152 & 566432\\\\\n",
       "\tArizona &  2212 & 4530 & 1.8 & 70.55 &  7.8 & 58.1 &  15 & 113417\\\\\n",
       "\tArkansas &  2110 & 3378 & 1.9 & 70.66 & 10.1 & 39.9 &  65 &  51945\\\\\n",
       "\tCalifornia & 21198 & 5114 & 1.1 & 71.71 & 10.3 & 62.6 &  20 & 156361\\\\\n",
       "\tColorado &  2541 & 4884 & 0.7 & 72.06 &  6.8 & 63.9 & 166 & 103766\\\\\n",
       "\\end{tabular}\n"
      ],
      "text/markdown": [
       "\n",
       "A data.frame: 6 × 8\n",
       "\n",
       "| <!--/--> | Population &lt;dbl&gt; | Income &lt;dbl&gt; | Illiteracy &lt;dbl&gt; | Life.Exp &lt;dbl&gt; | Murder &lt;dbl&gt; | HS.Grad &lt;dbl&gt; | Frost &lt;dbl&gt; | Area &lt;dbl&gt; |\n",
       "|---|---|---|---|---|---|---|---|---|\n",
       "| Alabama |  3615 | 3624 | 2.1 | 69.05 | 15.1 | 41.3 |  20 |  50708 |\n",
       "| Alaska |   365 | 6315 | 1.5 | 69.31 | 11.3 | 66.7 | 152 | 566432 |\n",
       "| Arizona |  2212 | 4530 | 1.8 | 70.55 |  7.8 | 58.1 |  15 | 113417 |\n",
       "| Arkansas |  2110 | 3378 | 1.9 | 70.66 | 10.1 | 39.9 |  65 |  51945 |\n",
       "| California | 21198 | 5114 | 1.1 | 71.71 | 10.3 | 62.6 |  20 | 156361 |\n",
       "| Colorado |  2541 | 4884 | 0.7 | 72.06 |  6.8 | 63.9 | 166 | 103766 |\n",
       "\n"
      ],
      "text/plain": [
       "           Population Income Illiteracy Life.Exp Murder HS.Grad Frost Area  \n",
       "Alabama     3615      3624   2.1        69.05    15.1   41.3     20    50708\n",
       "Alaska       365      6315   1.5        69.31    11.3   66.7    152   566432\n",
       "Arizona     2212      4530   1.8        70.55     7.8   58.1     15   113417\n",
       "Arkansas    2110      3378   1.9        70.66    10.1   39.9     65    51945\n",
       "California 21198      5114   1.1        71.71    10.3   62.6     20   156361\n",
       "Colorado    2541      4884   0.7        72.06     6.8   63.9    166   103766"
      ]
     },
     "metadata": {},
     "output_type": "display_data"
    }
   ],
   "source": [
    "df = data.frame(data)\n",
    "head(df)"
   ]
  },
  {
   "cell_type": "code",
   "execution_count": 12,
   "id": "317fc269",
   "metadata": {},
   "outputs": [
    {
     "name": "stdout",
     "output_type": "stream",
     "text": [
      "'data.frame':\t50 obs. of  8 variables:\n",
      " $ Population: num  3615 365 2212 2110 21198 ...\n",
      " $ Income    : num  3624 6315 4530 3378 5114 ...\n",
      " $ Illiteracy: num  2.1 1.5 1.8 1.9 1.1 0.7 1.1 0.9 1.3 2 ...\n",
      " $ Life.Exp  : num  69 69.3 70.5 70.7 71.7 ...\n",
      " $ Murder    : num  15.1 11.3 7.8 10.1 10.3 6.8 3.1 6.2 10.7 13.9 ...\n",
      " $ HS.Grad   : num  41.3 66.7 58.1 39.9 62.6 63.9 56 54.6 52.6 40.6 ...\n",
      " $ Frost     : num  20 152 15 65 20 166 139 103 11 60 ...\n",
      " $ Area      : num  50708 566432 113417 51945 156361 ...\n"
     ]
    }
   ],
   "source": [
    "str(df)"
   ]
  },
  {
   "cell_type": "code",
   "execution_count": 16,
   "id": "84027c7b",
   "metadata": {},
   "outputs": [
    {
     "data": {
      "text/html": [
       "20"
      ],
      "text/latex": [
       "20"
      ],
      "text/markdown": [
       "20"
      ],
      "text/plain": [
       "[1] 20"
      ]
     },
     "metadata": {},
     "output_type": "display_data"
    }
   ],
   "source": [
    "nrow(df[(df$Income < 4300),])"
   ]
  },
  {
   "cell_type": "code",
   "execution_count": 17,
   "id": "6d60ff5f",
   "metadata": {},
   "outputs": [
    {
     "data": {
      "text/html": [
       "<table class=\"dataframe\">\n",
       "<caption>A data.frame: 20 × 8</caption>\n",
       "<thead>\n",
       "\t<tr><th></th><th scope=col>Population</th><th scope=col>Income</th><th scope=col>Illiteracy</th><th scope=col>Life.Exp</th><th scope=col>Murder</th><th scope=col>HS.Grad</th><th scope=col>Frost</th><th scope=col>Area</th></tr>\n",
       "\t<tr><th></th><th scope=col>&lt;dbl&gt;</th><th scope=col>&lt;dbl&gt;</th><th scope=col>&lt;dbl&gt;</th><th scope=col>&lt;dbl&gt;</th><th scope=col>&lt;dbl&gt;</th><th scope=col>&lt;dbl&gt;</th><th scope=col>&lt;dbl&gt;</th><th scope=col>&lt;dbl&gt;</th></tr>\n",
       "</thead>\n",
       "<tbody>\n",
       "\t<tr><th scope=row>Alabama</th><td> 3615</td><td>3624</td><td>2.1</td><td>69.05</td><td>15.1</td><td>41.3</td><td> 20</td><td> 50708</td></tr>\n",
       "\t<tr><th scope=row>Arkansas</th><td> 2110</td><td>3378</td><td>1.9</td><td>70.66</td><td>10.1</td><td>39.9</td><td> 65</td><td> 51945</td></tr>\n",
       "\t<tr><th scope=row>Georgia</th><td> 4931</td><td>4091</td><td>2.0</td><td>68.54</td><td>13.9</td><td>40.6</td><td> 60</td><td> 58073</td></tr>\n",
       "\t<tr><th scope=row>Idaho</th><td>  813</td><td>4119</td><td>0.6</td><td>71.87</td><td> 5.3</td><td>59.5</td><td>126</td><td> 82677</td></tr>\n",
       "\t<tr><th scope=row>Kentucky</th><td> 3387</td><td>3712</td><td>1.6</td><td>70.10</td><td>10.6</td><td>38.5</td><td> 95</td><td> 39650</td></tr>\n",
       "\t<tr><th scope=row>Louisiana</th><td> 3806</td><td>3545</td><td>2.8</td><td>68.76</td><td>13.2</td><td>42.2</td><td> 12</td><td> 44930</td></tr>\n",
       "\t<tr><th scope=row>Maine</th><td> 1058</td><td>3694</td><td>0.7</td><td>70.39</td><td> 2.7</td><td>54.7</td><td>161</td><td> 30920</td></tr>\n",
       "\t<tr><th scope=row>Mississippi</th><td> 2341</td><td>3098</td><td>2.4</td><td>68.09</td><td>12.5</td><td>41.0</td><td> 50</td><td> 47296</td></tr>\n",
       "\t<tr><th scope=row>Missouri</th><td> 4767</td><td>4254</td><td>0.8</td><td>70.69</td><td> 9.3</td><td>48.8</td><td>108</td><td> 68995</td></tr>\n",
       "\t<tr><th scope=row>New Hampshire</th><td>  812</td><td>4281</td><td>0.7</td><td>71.23</td><td> 3.3</td><td>57.6</td><td>174</td><td>  9027</td></tr>\n",
       "\t<tr><th scope=row>New Mexico</th><td> 1144</td><td>3601</td><td>2.2</td><td>70.32</td><td> 9.7</td><td>55.2</td><td>120</td><td>121412</td></tr>\n",
       "\t<tr><th scope=row>North Carolina</th><td> 5441</td><td>3875</td><td>1.8</td><td>69.21</td><td>11.1</td><td>38.5</td><td> 80</td><td> 48798</td></tr>\n",
       "\t<tr><th scope=row>Oklahoma</th><td> 2715</td><td>3983</td><td>1.1</td><td>71.42</td><td> 6.4</td><td>51.6</td><td> 82</td><td> 68782</td></tr>\n",
       "\t<tr><th scope=row>South Carolina</th><td> 2816</td><td>3635</td><td>2.3</td><td>67.96</td><td>11.6</td><td>37.8</td><td> 65</td><td> 30225</td></tr>\n",
       "\t<tr><th scope=row>South Dakota</th><td>  681</td><td>4167</td><td>0.5</td><td>72.08</td><td> 1.7</td><td>53.3</td><td>172</td><td> 75955</td></tr>\n",
       "\t<tr><th scope=row>Tennessee</th><td> 4173</td><td>3821</td><td>1.7</td><td>70.11</td><td>11.0</td><td>41.8</td><td> 70</td><td> 41328</td></tr>\n",
       "\t<tr><th scope=row>Texas</th><td>12237</td><td>4188</td><td>2.2</td><td>70.90</td><td>12.2</td><td>47.4</td><td> 35</td><td>262134</td></tr>\n",
       "\t<tr><th scope=row>Utah</th><td> 1203</td><td>4022</td><td>0.6</td><td>72.90</td><td> 4.5</td><td>67.3</td><td>137</td><td> 82096</td></tr>\n",
       "\t<tr><th scope=row>Vermont</th><td>  472</td><td>3907</td><td>0.6</td><td>71.64</td><td> 5.5</td><td>57.1</td><td>168</td><td>  9267</td></tr>\n",
       "\t<tr><th scope=row>West Virginia</th><td> 1799</td><td>3617</td><td>1.4</td><td>69.48</td><td> 6.7</td><td>41.6</td><td>100</td><td> 24070</td></tr>\n",
       "</tbody>\n",
       "</table>\n"
      ],
      "text/latex": [
       "A data.frame: 20 × 8\n",
       "\\begin{tabular}{r|llllllll}\n",
       "  & Population & Income & Illiteracy & Life.Exp & Murder & HS.Grad & Frost & Area\\\\\n",
       "  & <dbl> & <dbl> & <dbl> & <dbl> & <dbl> & <dbl> & <dbl> & <dbl>\\\\\n",
       "\\hline\n",
       "\tAlabama &  3615 & 3624 & 2.1 & 69.05 & 15.1 & 41.3 &  20 &  50708\\\\\n",
       "\tArkansas &  2110 & 3378 & 1.9 & 70.66 & 10.1 & 39.9 &  65 &  51945\\\\\n",
       "\tGeorgia &  4931 & 4091 & 2.0 & 68.54 & 13.9 & 40.6 &  60 &  58073\\\\\n",
       "\tIdaho &   813 & 4119 & 0.6 & 71.87 &  5.3 & 59.5 & 126 &  82677\\\\\n",
       "\tKentucky &  3387 & 3712 & 1.6 & 70.10 & 10.6 & 38.5 &  95 &  39650\\\\\n",
       "\tLouisiana &  3806 & 3545 & 2.8 & 68.76 & 13.2 & 42.2 &  12 &  44930\\\\\n",
       "\tMaine &  1058 & 3694 & 0.7 & 70.39 &  2.7 & 54.7 & 161 &  30920\\\\\n",
       "\tMississippi &  2341 & 3098 & 2.4 & 68.09 & 12.5 & 41.0 &  50 &  47296\\\\\n",
       "\tMissouri &  4767 & 4254 & 0.8 & 70.69 &  9.3 & 48.8 & 108 &  68995\\\\\n",
       "\tNew Hampshire &   812 & 4281 & 0.7 & 71.23 &  3.3 & 57.6 & 174 &   9027\\\\\n",
       "\tNew Mexico &  1144 & 3601 & 2.2 & 70.32 &  9.7 & 55.2 & 120 & 121412\\\\\n",
       "\tNorth Carolina &  5441 & 3875 & 1.8 & 69.21 & 11.1 & 38.5 &  80 &  48798\\\\\n",
       "\tOklahoma &  2715 & 3983 & 1.1 & 71.42 &  6.4 & 51.6 &  82 &  68782\\\\\n",
       "\tSouth Carolina &  2816 & 3635 & 2.3 & 67.96 & 11.6 & 37.8 &  65 &  30225\\\\\n",
       "\tSouth Dakota &   681 & 4167 & 0.5 & 72.08 &  1.7 & 53.3 & 172 &  75955\\\\\n",
       "\tTennessee &  4173 & 3821 & 1.7 & 70.11 & 11.0 & 41.8 &  70 &  41328\\\\\n",
       "\tTexas & 12237 & 4188 & 2.2 & 70.90 & 12.2 & 47.4 &  35 & 262134\\\\\n",
       "\tUtah &  1203 & 4022 & 0.6 & 72.90 &  4.5 & 67.3 & 137 &  82096\\\\\n",
       "\tVermont &   472 & 3907 & 0.6 & 71.64 &  5.5 & 57.1 & 168 &   9267\\\\\n",
       "\tWest Virginia &  1799 & 3617 & 1.4 & 69.48 &  6.7 & 41.6 & 100 &  24070\\\\\n",
       "\\end{tabular}\n"
      ],
      "text/markdown": [
       "\n",
       "A data.frame: 20 × 8\n",
       "\n",
       "| <!--/--> | Population &lt;dbl&gt; | Income &lt;dbl&gt; | Illiteracy &lt;dbl&gt; | Life.Exp &lt;dbl&gt; | Murder &lt;dbl&gt; | HS.Grad &lt;dbl&gt; | Frost &lt;dbl&gt; | Area &lt;dbl&gt; |\n",
       "|---|---|---|---|---|---|---|---|---|\n",
       "| Alabama |  3615 | 3624 | 2.1 | 69.05 | 15.1 | 41.3 |  20 |  50708 |\n",
       "| Arkansas |  2110 | 3378 | 1.9 | 70.66 | 10.1 | 39.9 |  65 |  51945 |\n",
       "| Georgia |  4931 | 4091 | 2.0 | 68.54 | 13.9 | 40.6 |  60 |  58073 |\n",
       "| Idaho |   813 | 4119 | 0.6 | 71.87 |  5.3 | 59.5 | 126 |  82677 |\n",
       "| Kentucky |  3387 | 3712 | 1.6 | 70.10 | 10.6 | 38.5 |  95 |  39650 |\n",
       "| Louisiana |  3806 | 3545 | 2.8 | 68.76 | 13.2 | 42.2 |  12 |  44930 |\n",
       "| Maine |  1058 | 3694 | 0.7 | 70.39 |  2.7 | 54.7 | 161 |  30920 |\n",
       "| Mississippi |  2341 | 3098 | 2.4 | 68.09 | 12.5 | 41.0 |  50 |  47296 |\n",
       "| Missouri |  4767 | 4254 | 0.8 | 70.69 |  9.3 | 48.8 | 108 |  68995 |\n",
       "| New Hampshire |   812 | 4281 | 0.7 | 71.23 |  3.3 | 57.6 | 174 |   9027 |\n",
       "| New Mexico |  1144 | 3601 | 2.2 | 70.32 |  9.7 | 55.2 | 120 | 121412 |\n",
       "| North Carolina |  5441 | 3875 | 1.8 | 69.21 | 11.1 | 38.5 |  80 |  48798 |\n",
       "| Oklahoma |  2715 | 3983 | 1.1 | 71.42 |  6.4 | 51.6 |  82 |  68782 |\n",
       "| South Carolina |  2816 | 3635 | 2.3 | 67.96 | 11.6 | 37.8 |  65 |  30225 |\n",
       "| South Dakota |   681 | 4167 | 0.5 | 72.08 |  1.7 | 53.3 | 172 |  75955 |\n",
       "| Tennessee |  4173 | 3821 | 1.7 | 70.11 | 11.0 | 41.8 |  70 |  41328 |\n",
       "| Texas | 12237 | 4188 | 2.2 | 70.90 | 12.2 | 47.4 |  35 | 262134 |\n",
       "| Utah |  1203 | 4022 | 0.6 | 72.90 |  4.5 | 67.3 | 137 |  82096 |\n",
       "| Vermont |   472 | 3907 | 0.6 | 71.64 |  5.5 | 57.1 | 168 |   9267 |\n",
       "| West Virginia |  1799 | 3617 | 1.4 | 69.48 |  6.7 | 41.6 | 100 |  24070 |\n",
       "\n"
      ],
      "text/plain": [
       "               Population Income Illiteracy Life.Exp Murder HS.Grad Frost\n",
       "Alabama         3615      3624   2.1        69.05    15.1   41.3     20  \n",
       "Arkansas        2110      3378   1.9        70.66    10.1   39.9     65  \n",
       "Georgia         4931      4091   2.0        68.54    13.9   40.6     60  \n",
       "Idaho            813      4119   0.6        71.87     5.3   59.5    126  \n",
       "Kentucky        3387      3712   1.6        70.10    10.6   38.5     95  \n",
       "Louisiana       3806      3545   2.8        68.76    13.2   42.2     12  \n",
       "Maine           1058      3694   0.7        70.39     2.7   54.7    161  \n",
       "Mississippi     2341      3098   2.4        68.09    12.5   41.0     50  \n",
       "Missouri        4767      4254   0.8        70.69     9.3   48.8    108  \n",
       "New Hampshire    812      4281   0.7        71.23     3.3   57.6    174  \n",
       "New Mexico      1144      3601   2.2        70.32     9.7   55.2    120  \n",
       "North Carolina  5441      3875   1.8        69.21    11.1   38.5     80  \n",
       "Oklahoma        2715      3983   1.1        71.42     6.4   51.6     82  \n",
       "South Carolina  2816      3635   2.3        67.96    11.6   37.8     65  \n",
       "South Dakota     681      4167   0.5        72.08     1.7   53.3    172  \n",
       "Tennessee       4173      3821   1.7        70.11    11.0   41.8     70  \n",
       "Texas          12237      4188   2.2        70.90    12.2   47.4     35  \n",
       "Utah            1203      4022   0.6        72.90     4.5   67.3    137  \n",
       "Vermont          472      3907   0.6        71.64     5.5   57.1    168  \n",
       "West Virginia   1799      3617   1.4        69.48     6.7   41.6    100  \n",
       "               Area  \n",
       "Alabama         50708\n",
       "Arkansas        51945\n",
       "Georgia         58073\n",
       "Idaho           82677\n",
       "Kentucky        39650\n",
       "Louisiana       44930\n",
       "Maine           30920\n",
       "Mississippi     47296\n",
       "Missouri        68995\n",
       "New Hampshire    9027\n",
       "New Mexico     121412\n",
       "North Carolina  48798\n",
       "Oklahoma        68782\n",
       "South Carolina  30225\n",
       "South Dakota    75955\n",
       "Tennessee       41328\n",
       "Texas          262134\n",
       "Utah            82096\n",
       "Vermont          9267\n",
       "West Virginia   24070"
      ]
     },
     "metadata": {},
     "output_type": "display_data"
    }
   ],
   "source": [
    "df[(df$Income < 4300),]"
   ]
  },
  {
   "cell_type": "code",
   "execution_count": 23,
   "id": "1c492314",
   "metadata": {},
   "outputs": [
    {
     "data": {
      "text/html": [
       "<table class=\"dataframe\">\n",
       "<caption>A data.frame: 1 × 1</caption>\n",
       "<thead>\n",
       "\t<tr><th></th><th scope=col>Income</th></tr>\n",
       "\t<tr><th></th><th scope=col>&lt;dbl&gt;</th></tr>\n",
       "</thead>\n",
       "<tbody>\n",
       "\t<tr><th scope=row>Alaska</th><td>6315</td></tr>\n",
       "</tbody>\n",
       "</table>\n"
      ],
      "text/latex": [
       "A data.frame: 1 × 1\n",
       "\\begin{tabular}{r|l}\n",
       "  & Income\\\\\n",
       "  & <dbl>\\\\\n",
       "\\hline\n",
       "\tAlaska & 6315\\\\\n",
       "\\end{tabular}\n"
      ],
      "text/markdown": [
       "\n",
       "A data.frame: 1 × 1\n",
       "\n",
       "| <!--/--> | Income &lt;dbl&gt; |\n",
       "|---|---|\n",
       "| Alaska | 6315 |\n",
       "\n"
      ],
      "text/plain": [
       "       Income\n",
       "Alaska 6315  "
      ]
     },
     "metadata": {},
     "output_type": "display_data"
    }
   ],
   "source": [
    "df[which.max(df$Income),][2]"
   ]
  },
  {
   "cell_type": "code",
   "execution_count": 27,
   "id": "1f2db590",
   "metadata": {},
   "outputs": [
    {
     "data": {
      "text/html": [
       "<table class=\"dataframe\">\n",
       "<caption>A data.frame: 1 × 1</caption>\n",
       "<thead>\n",
       "\t<tr><th></th><th scope=col>Life.Exp</th></tr>\n",
       "\t<tr><th></th><th scope=col>&lt;dbl&gt;</th></tr>\n",
       "</thead>\n",
       "<tbody>\n",
       "\t<tr><th scope=row>Hawaii</th><td>73.6</td></tr>\n",
       "</tbody>\n",
       "</table>\n"
      ],
      "text/latex": [
       "A data.frame: 1 × 1\n",
       "\\begin{tabular}{r|l}\n",
       "  & Life.Exp\\\\\n",
       "  & <dbl>\\\\\n",
       "\\hline\n",
       "\tHawaii & 73.6\\\\\n",
       "\\end{tabular}\n"
      ],
      "text/markdown": [
       "\n",
       "A data.frame: 1 × 1\n",
       "\n",
       "| <!--/--> | Life.Exp &lt;dbl&gt; |\n",
       "|---|---|\n",
       "| Hawaii | 73.6 |\n",
       "\n"
      ],
      "text/plain": [
       "       Life.Exp\n",
       "Hawaii 73.6    "
      ]
     },
     "metadata": {},
     "output_type": "display_data"
    }
   ],
   "source": [
    "df[which.max(df$Life.Exp),][4]"
   ]
  },
  {
   "cell_type": "code",
   "execution_count": 28,
   "id": "54da8ed7",
   "metadata": {},
   "outputs": [
    {
     "data": {
      "text/html": [
       "<table class=\"dataframe\">\n",
       "<caption>A data.frame: 1 × 1</caption>\n",
       "<thead>\n",
       "\t<tr><th></th><th scope=col>Life.Exp</th></tr>\n",
       "\t<tr><th></th><th scope=col>&lt;dbl&gt;</th></tr>\n",
       "</thead>\n",
       "<tbody>\n",
       "\t<tr><th scope=row>South Carolina</th><td>67.96</td></tr>\n",
       "</tbody>\n",
       "</table>\n"
      ],
      "text/latex": [
       "A data.frame: 1 × 1\n",
       "\\begin{tabular}{r|l}\n",
       "  & Life.Exp\\\\\n",
       "  & <dbl>\\\\\n",
       "\\hline\n",
       "\tSouth Carolina & 67.96\\\\\n",
       "\\end{tabular}\n"
      ],
      "text/markdown": [
       "\n",
       "A data.frame: 1 × 1\n",
       "\n",
       "| <!--/--> | Life.Exp &lt;dbl&gt; |\n",
       "|---|---|\n",
       "| South Carolina | 67.96 |\n",
       "\n"
      ],
      "text/plain": [
       "               Life.Exp\n",
       "South Carolina 67.96   "
      ]
     },
     "metadata": {},
     "output_type": "display_data"
    }
   ],
   "source": [
    "df[which.min(df$Life.Exp),][4]"
   ]
  },
  {
   "cell_type": "code",
   "execution_count": 29,
   "id": "82fc9a34",
   "metadata": {},
   "outputs": [
    {
     "data": {
      "text/plain": [
       "   Population        Income       Illiteracy       Life.Exp    \n",
       " Min.   :  365   Min.   :3098   Min.   :0.500   Min.   :67.96  \n",
       " 1st Qu.: 1080   1st Qu.:3993   1st Qu.:0.625   1st Qu.:70.12  \n",
       " Median : 2838   Median :4519   Median :0.950   Median :70.67  \n",
       " Mean   : 4246   Mean   :4436   Mean   :1.170   Mean   :70.88  \n",
       " 3rd Qu.: 4968   3rd Qu.:4814   3rd Qu.:1.575   3rd Qu.:71.89  \n",
       " Max.   :21198   Max.   :6315   Max.   :2.800   Max.   :73.60  \n",
       "     Murder          HS.Grad          Frost             Area       \n",
       " Min.   : 1.400   Min.   :37.80   Min.   :  0.00   Min.   :  1049  \n",
       " 1st Qu.: 4.350   1st Qu.:48.05   1st Qu.: 66.25   1st Qu.: 36985  \n",
       " Median : 6.850   Median :53.25   Median :114.50   Median : 54277  \n",
       " Mean   : 7.378   Mean   :53.11   Mean   :104.46   Mean   : 70736  \n",
       " 3rd Qu.:10.675   3rd Qu.:59.15   3rd Qu.:139.75   3rd Qu.: 81162  \n",
       " Max.   :15.100   Max.   :67.30   Max.   :188.00   Max.   :566432  "
      ]
     },
     "metadata": {},
     "output_type": "display_data"
    }
   ],
   "source": [
    "summary(df)"
   ]
  },
  {
   "cell_type": "code",
   "execution_count": null,
   "id": "1657345e",
   "metadata": {},
   "outputs": [],
   "source": []
  }
 ],
 "metadata": {
  "kernelspec": {
   "display_name": "R",
   "language": "R",
   "name": "ir"
  },
  "language_info": {
   "codemirror_mode": "r",
   "file_extension": ".r",
   "mimetype": "text/x-r-source",
   "name": "R",
   "pygments_lexer": "r",
   "version": "4.1.0"
  }
 },
 "nbformat": 4,
 "nbformat_minor": 5
}
