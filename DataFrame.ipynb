{
 "cells": [
  {
   "cell_type": "code",
   "execution_count": 1,
   "metadata": {},
   "outputs": [
    {
     "name": "stderr",
     "output_type": "stream",
     "text": [
      "Your code contains a unicode char which cannot be displayed in your\n",
      "current locale and R will silently convert it to an escaped form when the\n",
      "R kernel executes this code. This can lead to subtle errors if you use\n",
      "such chars to do comparisons. For more information, please see\n",
      "https://github.com/IRkernel/repr/wiki/Problems-with-unicode-on-windows"
     ]
    }
   ],
   "source": [
    "# Sử dụng data.frame() để tạo data frame \n",
    "# data.frame(col_name_1=vector_values,..)\n",
    "# Ví dụ:\n",
    "students_1 <- data.frame(\"name\" =c('Hellen', 'Jolie', 'Kiwi', 'John', 'Mark','Tom'),\n",
    "                        \"age\" = c(17,16,17,18,19,16),\n",
    "                        \"mark\" = c(9,9,8,7.5,7.5,8),\n",
    "                        stringAsFactors=FALSE\n",
    "                        )"
   ]
  },
  {
   "cell_type": "code",
   "execution_count": 2,
   "metadata": {},
   "outputs": [
    {
     "name": "stdout",
     "output_type": "stream",
     "text": [
      "    name age mark stringAsFactors\n",
      "1 Hellen  17  9.0           FALSE\n",
      "2  Jolie  16  9.0           FALSE\n",
      "3   Kiwi  17  8.0           FALSE\n",
      "4   John  18  7.5           FALSE\n",
      "5   Mark  19  7.5           FALSE\n",
      "6    Tom  16  8.0           FALSE\n"
     ]
    }
   ],
   "source": [
    "print(students_1)"
   ]
  },
  {
   "cell_type": "code",
   "execution_count": 3,
   "metadata": {},
   "outputs": [
    {
     "name": "stderr",
     "output_type": "stream",
     "text": [
      "Your code contains a unicode char which cannot be displayed in your\n",
      "current locale and R will silently convert it to an escaped form when the\n",
      "R kernel executes this code. This can lead to subtle errors if you use\n",
      "such chars to do comparisons. For more information, please see\n",
      "https://github.com/IRkernel/repr/wiki/Problems-with-unicode-on-windows"
     ]
    },
    {
     "name": "stdout",
     "output_type": "stream",
     "text": [
      "    name age mark\n",
      "1 Hellen  17  9.0\n",
      "2  Jolie  16  9.0\n",
      "3   Kiwi  17  8.0\n",
      "4   John  18  7.5\n",
      "5   Mark  19  7.5\n",
      "6    Tom  16  8.0\n"
     ]
    }
   ],
   "source": [
    "# Hoặc data.frame(vector1,vector2)\n",
    "# Ví dụ: \n",
    "name <-c('Hellen', 'Jolie', 'Kiwi', 'John', 'Mark','Tom')\n",
    "age <- c(17,16,17,18,19,16)\n",
    "mark<- c(9,9,8,7.5,7.5,8)\n",
    "students <- data.frame (name, age, mark, \n",
    "                       stringsAsFactors =FALSE)\n",
    "print(students)"
   ]
  },
  {
   "cell_type": "code",
   "execution_count": 4,
   "metadata": {},
   "outputs": [
    {
     "name": "stderr",
     "output_type": "stream",
     "text": [
      "Your code contains a unicode char which cannot be displayed in your\n",
      "current locale and R will silently convert it to an escaped form when the\n",
      "R kernel executes this code. This can lead to subtle errors if you use\n",
      "such chars to do comparisons. For more information, please see\n",
      "https://github.com/IRkernel/repr/wiki/Problems-with-unicode-on-windows"
     ]
    }
   ],
   "source": [
    "#Xem cấu trúc của data frame bằng str()"
   ]
  },
  {
   "cell_type": "code",
   "execution_count": 5,
   "metadata": {},
   "outputs": [
    {
     "name": "stdout",
     "output_type": "stream",
     "text": [
      "'data.frame':\t6 obs. of  3 variables:\n",
      " $ name: chr  \"Hellen\" \"Jolie\" \"Kiwi\" \"John\" ...\n",
      " $ age : num  17 16 17 18 19 16\n",
      " $ mark: num  9 9 8 7.5 7.5 8\n"
     ]
    }
   ],
   "source": [
    "str(students)"
   ]
  },
  {
   "cell_type": "code",
   "execution_count": 6,
   "metadata": {},
   "outputs": [
    {
     "name": "stderr",
     "output_type": "stream",
     "text": [
      "Your code contains a unicode char which cannot be displayed in your\n",
      "current locale and R will silently convert it to an escaped form when the\n",
      "R kernel executes this code. This can lead to subtle errors if you use\n",
      "such chars to do comparisons. For more information, please see\n",
      "https://github.com/IRkernel/repr/wiki/Problems-with-unicode-on-windows"
     ]
    },
    {
     "name": "stdout",
     "output_type": "stream",
     "text": [
      "     name                age             mark      \n",
      " Length:6           Min.   :16.00   Min.   :7.500  \n",
      " Class :character   1st Qu.:16.25   1st Qu.:7.625  \n",
      " Mode  :character   Median :17.00   Median :8.000  \n",
      "                    Mean   :17.17   Mean   :8.167  \n",
      "                    3rd Qu.:17.75   3rd Qu.:8.750  \n",
      "                    Max.   :19.00   Max.   :9.000  \n"
     ]
    }
   ],
   "source": [
    "# Xem tóm tắt thống kê dữ liệu trong data frame với summary()\n",
    "# Ví dụ:\n",
    "print(summary(students))"
   ]
  },
  {
   "cell_type": "code",
   "execution_count": 7,
   "metadata": {},
   "outputs": [
    {
     "name": "stderr",
     "output_type": "stream",
     "text": [
      "Your code contains a unicode char which cannot be displayed in your\n",
      "current locale and R will silently convert it to an escaped form when the\n",
      "R kernel executes this code. This can lead to subtle errors if you use\n",
      "such chars to do comparisons. For more information, please see\n",
      "https://github.com/IRkernel/repr/wiki/Problems-with-unicode-on-windows"
     ]
    },
    {
     "name": "stdout",
     "output_type": "stream",
     "text": [
      "[1] 9.0 9.0 8.0 7.5 7.5 8.0\n",
      "    name age mark\n",
      "1 Hellen  17    9\n",
      "2  Jolie  16    9\n",
      "  students.age\n",
      "1           17\n",
      "2           16\n",
      "3           17\n",
      "4           18\n",
      "5           19\n",
      "6           16\n",
      "  name age\n",
      "3 Kiwi  17\n",
      "5 Mark  19\n"
     ]
    }
   ],
   "source": [
    "# Trích xuất dữ liệu từ data frame\n",
    "# get mark column as vector\n",
    "print(students$mark)\n",
    "# get 2 first rows\n",
    "print(students[1:2,])\n",
    "# get age column as data.frame\n",
    "print(data.frame(students$age))\n",
    "#get row3,5 & cilumns 1,2\n",
    "print (students[c(3,5), c(1,2)])"
   ]
  },
  {
   "cell_type": "code",
   "execution_count": 8,
   "metadata": {},
   "outputs": [
    {
     "name": "stderr",
     "output_type": "stream",
     "text": [
      "Your code contains a unicode char which cannot be displayed in your\n",
      "current locale and R will silently convert it to an escaped form when the\n",
      "R kernel executes this code. This can lead to subtle errors if you use\n",
      "such chars to do comparisons. For more information, please see\n",
      "https://github.com/IRkernel/repr/wiki/Problems-with-unicode-on-windows"
     ]
    }
   ],
   "source": [
    "# Mở rộng data frame\n",
    "# Thêm cột: data_frame_name $ column_name\n",
    "# Ví dụ\"\n",
    "students$class <- c(\"k256_S7N\", \"k256_C7N\", \"k256_S24\", \"k256_S7N\", \"k256_S24\", \"k256_C7N\")"
   ]
  },
  {
   "cell_type": "code",
   "execution_count": 9,
   "metadata": {},
   "outputs": [
    {
     "name": "stdout",
     "output_type": "stream",
     "text": [
      "    name age mark    class\n",
      "1 Hellen  17  9.0 k256_S7N\n",
      "2  Jolie  16  9.0 k256_C7N\n",
      "3   Kiwi  17  8.0 k256_S24\n",
      "4   John  18  7.5 k256_S7N\n",
      "5   Mark  19  7.5 k256_S24\n",
      "6    Tom  16  8.0 k256_C7N\n"
     ]
    }
   ],
   "source": [
    "print(students)"
   ]
  },
  {
   "cell_type": "code",
   "execution_count": 10,
   "metadata": {},
   "outputs": [
    {
     "name": "stderr",
     "output_type": "stream",
     "text": [
      "Your code contains a unicode char which cannot be displayed in your\n",
      "current locale and R will silently convert it to an escaped form when the\n",
      "R kernel executes this code. This can lead to subtle errors if you use\n",
      "such chars to do comparisons. For more information, please see\n",
      "https://github.com/IRkernel/repr/wiki/Problems-with-unicode-on-windows"
     ]
    }
   ],
   "source": [
    "# Mở rộng data frame\n",
    "# Thêm cột: cbind(data_frame,data_frame_new) để nôi slaij thành 1 data frame cuối cùng\n",
    "# Ví dụ:\n",
    "df_POB <- data.frame(\"POB\" = c(\"UK\", \"US\", \"EU\", \"UK\", \"US\", \"EU\"))\n",
    "students <- cbind(students,df_POB)"
   ]
  },
  {
   "cell_type": "code",
   "execution_count": 11,
   "metadata": {},
   "outputs": [
    {
     "name": "stdout",
     "output_type": "stream",
     "text": [
      "    name age mark    class POB\n",
      "1 Hellen  17  9.0 k256_S7N  UK\n",
      "2  Jolie  16  9.0 k256_C7N  US\n",
      "3   Kiwi  17  8.0 k256_S24  EU\n",
      "4   John  18  7.5 k256_S7N  UK\n",
      "5   Mark  19  7.5 k256_S24  US\n",
      "6    Tom  16  8.0 k256_C7N  EU\n"
     ]
    }
   ],
   "source": [
    "print(students)"
   ]
  },
  {
   "cell_type": "code",
   "execution_count": 12,
   "metadata": {},
   "outputs": [
    {
     "name": "stderr",
     "output_type": "stream",
     "text": [
      "Your code contains a unicode char which cannot be displayed in your\n",
      "current locale and R will silently convert it to an escaped form when the\n",
      "R kernel executes this code. This can lead to subtle errors if you use\n",
      "such chars to do comparisons. For more information, please see\n",
      "https://github.com/IRkernel/repr/wiki/Problems-with-unicode-on-windows"
     ]
    }
   ],
   "source": [
    "# Mở rộng data frame\n",
    "# Thêm dòng: bằng cách tạo ra 1 data frame mới"
   ]
  },
  {
   "cell_type": "code",
   "execution_count": 13,
   "metadata": {},
   "outputs": [],
   "source": [
    "new_students <- data.frame(\"name\" = c('Sunny', 'Lucy'),\n",
    "                          \"age\" = c(17,18),\n",
    "                          \"mark\" = c(8,9),\n",
    "                          \"class\" = c(\"k256_c7N\", \"k256_S24\"),\n",
    "                          \"POB\" = c(\"EU\", \"UK\"),\n",
    "                          stringsAsFactors = FALSE)"
   ]
  },
  {
   "cell_type": "code",
   "execution_count": 14,
   "metadata": {},
   "outputs": [
    {
     "name": "stdout",
     "output_type": "stream",
     "text": [
      "   name age mark    class POB\n",
      "1 Sunny  17    8 k256_c7N  EU\n",
      "2  Lucy  18    9 k256_S24  UK\n"
     ]
    }
   ],
   "source": [
    "print(new_students)"
   ]
  },
  {
   "cell_type": "code",
   "execution_count": 15,
   "metadata": {},
   "outputs": [],
   "source": [
    "students <- rbind(students, new_students)"
   ]
  },
  {
   "cell_type": "code",
   "execution_count": 16,
   "metadata": {},
   "outputs": [
    {
     "data": {
      "text/html": [
       "<table class=\"dataframe\">\n",
       "<caption>A data.frame: 8 × 5</caption>\n",
       "<thead>\n",
       "\t<tr><th scope=col>name</th><th scope=col>age</th><th scope=col>mark</th><th scope=col>class</th><th scope=col>POB</th></tr>\n",
       "\t<tr><th scope=col>&lt;chr&gt;</th><th scope=col>&lt;dbl&gt;</th><th scope=col>&lt;dbl&gt;</th><th scope=col>&lt;chr&gt;</th><th scope=col>&lt;fct&gt;</th></tr>\n",
       "</thead>\n",
       "<tbody>\n",
       "\t<tr><td>Hellen</td><td>17</td><td>9.0</td><td>k256_S7N</td><td>UK</td></tr>\n",
       "\t<tr><td>Jolie </td><td>16</td><td>9.0</td><td>k256_C7N</td><td>US</td></tr>\n",
       "\t<tr><td>Kiwi  </td><td>17</td><td>8.0</td><td>k256_S24</td><td>EU</td></tr>\n",
       "\t<tr><td>John  </td><td>18</td><td>7.5</td><td>k256_S7N</td><td>UK</td></tr>\n",
       "\t<tr><td>Mark  </td><td>19</td><td>7.5</td><td>k256_S24</td><td>US</td></tr>\n",
       "\t<tr><td>Tom   </td><td>16</td><td>8.0</td><td>k256_C7N</td><td>EU</td></tr>\n",
       "\t<tr><td>Sunny </td><td>17</td><td>8.0</td><td>k256_c7N</td><td>EU</td></tr>\n",
       "\t<tr><td>Lucy  </td><td>18</td><td>9.0</td><td>k256_S24</td><td>UK</td></tr>\n",
       "</tbody>\n",
       "</table>\n"
      ],
      "text/latex": [
       "A data.frame: 8 × 5\n",
       "\\begin{tabular}{lllll}\n",
       " name & age & mark & class & POB\\\\\n",
       " <chr> & <dbl> & <dbl> & <chr> & <fct>\\\\\n",
       "\\hline\n",
       "\t Hellen & 17 & 9.0 & k256\\_S7N & UK\\\\\n",
       "\t Jolie  & 16 & 9.0 & k256\\_C7N & US\\\\\n",
       "\t Kiwi   & 17 & 8.0 & k256\\_S24 & EU\\\\\n",
       "\t John   & 18 & 7.5 & k256\\_S7N & UK\\\\\n",
       "\t Mark   & 19 & 7.5 & k256\\_S24 & US\\\\\n",
       "\t Tom    & 16 & 8.0 & k256\\_C7N & EU\\\\\n",
       "\t Sunny  & 17 & 8.0 & k256\\_c7N & EU\\\\\n",
       "\t Lucy   & 18 & 9.0 & k256\\_S24 & UK\\\\\n",
       "\\end{tabular}\n"
      ],
      "text/markdown": [
       "\n",
       "A data.frame: 8 × 5\n",
       "\n",
       "| name &lt;chr&gt; | age &lt;dbl&gt; | mark &lt;dbl&gt; | class &lt;chr&gt; | POB &lt;fct&gt; |\n",
       "|---|---|---|---|---|\n",
       "| Hellen | 17 | 9.0 | k256_S7N | UK |\n",
       "| Jolie  | 16 | 9.0 | k256_C7N | US |\n",
       "| Kiwi   | 17 | 8.0 | k256_S24 | EU |\n",
       "| John   | 18 | 7.5 | k256_S7N | UK |\n",
       "| Mark   | 19 | 7.5 | k256_S24 | US |\n",
       "| Tom    | 16 | 8.0 | k256_C7N | EU |\n",
       "| Sunny  | 17 | 8.0 | k256_c7N | EU |\n",
       "| Lucy   | 18 | 9.0 | k256_S24 | UK |\n",
       "\n"
      ],
      "text/plain": [
       "  name   age mark class    POB\n",
       "1 Hellen 17  9.0  k256_S7N UK \n",
       "2 Jolie  16  9.0  k256_C7N US \n",
       "3 Kiwi   17  8.0  k256_S24 EU \n",
       "4 John   18  7.5  k256_S7N UK \n",
       "5 Mark   19  7.5  k256_S24 US \n",
       "6 Tom    16  8.0  k256_C7N EU \n",
       "7 Sunny  17  8.0  k256_c7N EU \n",
       "8 Lucy   18  9.0  k256_S24 UK "
      ]
     },
     "metadata": {},
     "output_type": "display_data"
    }
   ],
   "source": [
    "students"
   ]
  },
  {
   "cell_type": "code",
   "execution_count": 17,
   "metadata": {},
   "outputs": [
    {
     "name": "stderr",
     "output_type": "stream",
     "text": [
      "Your code contains a unicode char which cannot be displayed in your\n",
      "current locale and R will silently convert it to an escaped form when the\n",
      "R kernel executes this code. This can lead to subtle errors if you use\n",
      "such chars to do comparisons. For more information, please see\n",
      "https://github.com/IRkernel/repr/wiki/Problems-with-unicode-on-windows"
     ]
    },
    {
     "data": {
      "text/html": [
       "FALSE"
      ],
      "text/latex": [
       "FALSE"
      ],
      "text/markdown": [
       "FALSE"
      ],
      "text/plain": [
       "[1] FALSE"
      ]
     },
     "metadata": {},
     "output_type": "display_data"
    }
   ],
   "source": [
    "#Thay đổi tên cột\n",
    "# names(tên_dataframe)[names(tên_dataframe)==\"tên_cột_cũ\"] <- tên_cột_mới\n",
    "# Ví dụ:\n",
    "names(students)[names(students) ==\"POB\"] < \"Place _of_birth\""
   ]
  },
  {
   "cell_type": "code",
   "execution_count": 18,
   "metadata": {},
   "outputs": [
    {
     "data": {
      "text/html": [
       "<table class=\"dataframe\">\n",
       "<caption>A data.frame: 6 × 5</caption>\n",
       "<thead>\n",
       "\t<tr><th></th><th scope=col>name</th><th scope=col>age</th><th scope=col>mark</th><th scope=col>class</th><th scope=col>POB</th></tr>\n",
       "\t<tr><th></th><th scope=col>&lt;chr&gt;</th><th scope=col>&lt;dbl&gt;</th><th scope=col>&lt;dbl&gt;</th><th scope=col>&lt;chr&gt;</th><th scope=col>&lt;fct&gt;</th></tr>\n",
       "</thead>\n",
       "<tbody>\n",
       "\t<tr><th scope=row>1</th><td>Hellen</td><td>17</td><td>9.0</td><td>k256_S7N</td><td>UK</td></tr>\n",
       "\t<tr><th scope=row>2</th><td>Jolie </td><td>16</td><td>9.0</td><td>k256_C7N</td><td>US</td></tr>\n",
       "\t<tr><th scope=row>3</th><td>Kiwi  </td><td>17</td><td>8.0</td><td>k256_S24</td><td>EU</td></tr>\n",
       "\t<tr><th scope=row>4</th><td>John  </td><td>18</td><td>7.5</td><td>k256_S7N</td><td>UK</td></tr>\n",
       "\t<tr><th scope=row>5</th><td>Mark  </td><td>19</td><td>7.5</td><td>k256_S24</td><td>US</td></tr>\n",
       "\t<tr><th scope=row>6</th><td>Tom   </td><td>16</td><td>8.0</td><td>k256_C7N</td><td>EU</td></tr>\n",
       "</tbody>\n",
       "</table>\n"
      ],
      "text/latex": [
       "A data.frame: 6 × 5\n",
       "\\begin{tabular}{r|lllll}\n",
       "  & name & age & mark & class & POB\\\\\n",
       "  & <chr> & <dbl> & <dbl> & <chr> & <fct>\\\\\n",
       "\\hline\n",
       "\t1 & Hellen & 17 & 9.0 & k256\\_S7N & UK\\\\\n",
       "\t2 & Jolie  & 16 & 9.0 & k256\\_C7N & US\\\\\n",
       "\t3 & Kiwi   & 17 & 8.0 & k256\\_S24 & EU\\\\\n",
       "\t4 & John   & 18 & 7.5 & k256\\_S7N & UK\\\\\n",
       "\t5 & Mark   & 19 & 7.5 & k256\\_S24 & US\\\\\n",
       "\t6 & Tom    & 16 & 8.0 & k256\\_C7N & EU\\\\\n",
       "\\end{tabular}\n"
      ],
      "text/markdown": [
       "\n",
       "A data.frame: 6 × 5\n",
       "\n",
       "| <!--/--> | name &lt;chr&gt; | age &lt;dbl&gt; | mark &lt;dbl&gt; | class &lt;chr&gt; | POB &lt;fct&gt; |\n",
       "|---|---|---|---|---|---|\n",
       "| 1 | Hellen | 17 | 9.0 | k256_S7N | UK |\n",
       "| 2 | Jolie  | 16 | 9.0 | k256_C7N | US |\n",
       "| 3 | Kiwi   | 17 | 8.0 | k256_S24 | EU |\n",
       "| 4 | John   | 18 | 7.5 | k256_S7N | UK |\n",
       "| 5 | Mark   | 19 | 7.5 | k256_S24 | US |\n",
       "| 6 | Tom    | 16 | 8.0 | k256_C7N | EU |\n",
       "\n"
      ],
      "text/plain": [
       "  name   age mark class    POB\n",
       "1 Hellen 17  9.0  k256_S7N UK \n",
       "2 Jolie  16  9.0  k256_C7N US \n",
       "3 Kiwi   17  8.0  k256_S24 EU \n",
       "4 John   18  7.5  k256_S7N UK \n",
       "5 Mark   19  7.5  k256_S24 US \n",
       "6 Tom    16  8.0  k256_C7N EU "
      ]
     },
     "metadata": {},
     "output_type": "display_data"
    }
   ],
   "source": [
    "head(students)"
   ]
  },
  {
   "cell_type": "code",
   "execution_count": 19,
   "metadata": {},
   "outputs": [
    {
     "data": {
      "text/html": [
       "<table class=\"dataframe\">\n",
       "<caption>A data.frame: 6 × 5</caption>\n",
       "<thead>\n",
       "\t<tr><th></th><th scope=col>name</th><th scope=col>age</th><th scope=col>mark</th><th scope=col>class</th><th scope=col>POB</th></tr>\n",
       "\t<tr><th></th><th scope=col>&lt;chr&gt;</th><th scope=col>&lt;dbl&gt;</th><th scope=col>&lt;dbl&gt;</th><th scope=col>&lt;chr&gt;</th><th scope=col>&lt;fct&gt;</th></tr>\n",
       "</thead>\n",
       "<tbody>\n",
       "\t<tr><th scope=row>1</th><td>Hellen</td><td>17</td><td>9.0</td><td>k256_S7N</td><td>UK</td></tr>\n",
       "\t<tr><th scope=row>2</th><td>Jolie </td><td>16</td><td>9.0</td><td>k256_C7N</td><td>US</td></tr>\n",
       "\t<tr><th scope=row>3</th><td>Kiwi  </td><td>17</td><td>8.0</td><td>k256_S24</td><td>EU</td></tr>\n",
       "\t<tr><th scope=row>4</th><td>John  </td><td>18</td><td>7.5</td><td>k256_S7N</td><td>UK</td></tr>\n",
       "\t<tr><th scope=row>5</th><td>Mark  </td><td>19</td><td>7.5</td><td>k256_S24</td><td>US</td></tr>\n",
       "\t<tr><th scope=row>6</th><td>Tom   </td><td>16</td><td>8.0</td><td>k256_C7N</td><td>EU</td></tr>\n",
       "</tbody>\n",
       "</table>\n"
      ],
      "text/latex": [
       "A data.frame: 6 × 5\n",
       "\\begin{tabular}{r|lllll}\n",
       "  & name & age & mark & class & POB\\\\\n",
       "  & <chr> & <dbl> & <dbl> & <chr> & <fct>\\\\\n",
       "\\hline\n",
       "\t1 & Hellen & 17 & 9.0 & k256\\_S7N & UK\\\\\n",
       "\t2 & Jolie  & 16 & 9.0 & k256\\_C7N & US\\\\\n",
       "\t3 & Kiwi   & 17 & 8.0 & k256\\_S24 & EU\\\\\n",
       "\t4 & John   & 18 & 7.5 & k256\\_S7N & UK\\\\\n",
       "\t5 & Mark   & 19 & 7.5 & k256\\_S24 & US\\\\\n",
       "\t6 & Tom    & 16 & 8.0 & k256\\_C7N & EU\\\\\n",
       "\\end{tabular}\n"
      ],
      "text/markdown": [
       "\n",
       "A data.frame: 6 × 5\n",
       "\n",
       "| <!--/--> | name &lt;chr&gt; | age &lt;dbl&gt; | mark &lt;dbl&gt; | class &lt;chr&gt; | POB &lt;fct&gt; |\n",
       "|---|---|---|---|---|---|\n",
       "| 1 | Hellen | 17 | 9.0 | k256_S7N | UK |\n",
       "| 2 | Jolie  | 16 | 9.0 | k256_C7N | US |\n",
       "| 3 | Kiwi   | 17 | 8.0 | k256_S24 | EU |\n",
       "| 4 | John   | 18 | 7.5 | k256_S7N | UK |\n",
       "| 5 | Mark   | 19 | 7.5 | k256_S24 | US |\n",
       "| 6 | Tom    | 16 | 8.0 | k256_C7N | EU |\n",
       "\n"
      ],
      "text/plain": [
       "  name   age mark class    POB\n",
       "1 Hellen 17  9.0  k256_S7N UK \n",
       "2 Jolie  16  9.0  k256_C7N US \n",
       "3 Kiwi   17  8.0  k256_S24 EU \n",
       "4 John   18  7.5  k256_S7N UK \n",
       "5 Mark   19  7.5  k256_S24 US \n",
       "6 Tom    16  8.0  k256_C7N EU "
      ]
     },
     "metadata": {},
     "output_type": "display_data"
    }
   ],
   "source": [
    "head(students)"
   ]
  },
  {
   "cell_type": "code",
   "execution_count": null,
   "metadata": {},
   "outputs": [],
   "source": []
  }
 ],
 "metadata": {
  "kernelspec": {
   "display_name": "R",
   "language": "R",
   "name": "ir"
  },
  "language_info": {
   "codemirror_mode": "r",
   "file_extension": ".r",
   "mimetype": "text/x-r-source",
   "name": "R",
   "pygments_lexer": "r",
   "version": "3.6.3"
  },
  "toc": {
   "base_numbering": 1,
   "nav_menu": {},
   "number_sections": true,
   "sideBar": true,
   "skip_h1_title": false,
   "title_cell": "Table of Contents",
   "title_sidebar": "Contents",
   "toc_cell": false,
   "toc_position": {},
   "toc_section_display": true,
   "toc_window_display": false
  }
 },
 "nbformat": 4,
 "nbformat_minor": 2
}
